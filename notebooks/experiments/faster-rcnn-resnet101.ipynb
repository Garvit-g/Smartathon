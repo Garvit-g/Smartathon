{
 "cells": [
  {
   "cell_type": "code",
   "execution_count": null,
   "id": "d94050a7",
   "metadata": {
    "execution": {
     "iopub.execute_input": "2023-01-18T13:55:13.859014Z",
     "iopub.status.busy": "2023-01-18T13:55:13.858512Z",
     "iopub.status.idle": "2023-01-18T13:55:17.670241Z",
     "shell.execute_reply": "2023-01-18T13:55:17.669283Z"
    },
    "papermill": {
     "duration": 3.826044,
     "end_time": "2023-01-18T13:55:17.672788",
     "exception": false,
     "start_time": "2023-01-18T13:55:13.846744",
     "status": "completed"
    },
    "tags": []
   },
   "outputs": [],
   "source": [
    "import pandas as pd\n",
    "import numpy as np\n",
    "import cv2\n",
    "import os\n",
    "import re\n",
    "\n",
    "from PIL import Image\n",
    "\n",
    "import albumentations as A\n",
    "from albumentations.pytorch.transforms import ToTensorV2\n",
    "\n",
    "import torch\n",
    "\n",
    "import torchvision\n",
    "from torchvision.models.detection.faster_rcnn import FastRCNNPredictor, FasterRCNN\n",
    "from torchvision.models.detection.backbone_utils import resnet_fpn_backbone\n",
    "\n",
    "from torch.utils.data import DataLoader, Dataset\n",
    "from torch.utils.data.sampler import SequentialSampler\n",
    "\n",
    "from matplotlib import pyplot as plt"
   ]
  },
  {
   "cell_type": "code",
   "execution_count": null,
   "id": "9513f9e4",
   "metadata": {
    "execution": {
     "iopub.execute_input": "2023-01-18T13:55:17.682633Z",
     "iopub.status.busy": "2023-01-18T13:55:17.681505Z",
     "iopub.status.idle": "2023-01-18T13:55:17.749812Z",
     "shell.execute_reply": "2023-01-18T13:55:17.748830Z"
    },
    "papermill": {
     "duration": 0.075199,
     "end_time": "2023-01-18T13:55:17.752152",
     "exception": false,
     "start_time": "2023-01-18T13:55:17.676953",
     "status": "completed"
    },
    "tags": []
   },
   "outputs": [],
   "source": [
    "device = torch.device('cuda') if torch.cuda.is_available() else torch.device('cpu')\n",
    "ON_CPU = device == torch.device('cpu')"
   ]
  },
  {
   "cell_type": "code",
   "execution_count": null,
   "id": "c9b70bd6",
   "metadata": {
    "execution": {
     "iopub.execute_input": "2023-01-18T13:55:17.761504Z",
     "iopub.status.busy": "2023-01-18T13:55:17.760649Z",
     "iopub.status.idle": "2023-01-18T13:55:17.833153Z",
     "shell.execute_reply": "2023-01-18T13:55:17.832200Z"
    },
    "papermill": {
     "duration": 0.079235,
     "end_time": "2023-01-18T13:55:17.835317",
     "exception": false,
     "start_time": "2023-01-18T13:55:17.756082",
     "status": "completed"
    },
    "tags": []
   },
   "outputs": [],
   "source": [
    "DIR_INPUT = '/kaggle/input/smartathon-dataset-zip/dataset'\n",
    "train = pd.read_csv(f'{DIR_INPUT}/train.csv')\n",
    "train.shape"
   ]
  },
  {
   "cell_type": "code",
   "execution_count": null,
   "id": "6d50c450",
   "metadata": {
    "execution": {
     "iopub.execute_input": "2023-01-18T13:55:17.844399Z",
     "iopub.status.busy": "2023-01-18T13:55:17.843832Z",
     "iopub.status.idle": "2023-01-18T13:55:17.911555Z",
     "shell.execute_reply": "2023-01-18T13:55:17.910671Z"
    },
    "papermill": {
     "duration": 0.07477,
     "end_time": "2023-01-18T13:55:17.913881",
     "exception": false,
     "start_time": "2023-01-18T13:55:17.839111",
     "status": "completed"
    },
    "tags": []
   },
   "outputs": [],
   "source": [
    "train['xmax'] = train['xmax'].apply(lambda x : 0 if x < 0 else x*2)\n",
    "train['ymax'] = train['ymax'].apply(lambda x : 0 if x < 0 else x*2)\n",
    "train['xmin'] = train['xmin'].apply(lambda x : 0 if x < 0 else x*2)\n",
    "train['ymin'] = train['ymin'].apply(lambda x : 0 if x < 0 else x*2)\n",
    "train['xmax'] = train['xmax'].apply(lambda x : x if x < 1920 else 1920)\n",
    "train['ymax'] = train['ymax'].apply(lambda x : x if x < 1080 else 1080)\n",
    "train['xmax'] = train['xmax'].apply(lambda x : x/2)\n",
    "train['ymax'] = train['ymax'].apply(lambda x : x/2)\n",
    "train['xmin'] = train['xmin'].apply(lambda x : x/2)\n",
    "train['ymin'] = train['ymin'].apply(lambda x : x/2)\n",
    "train['class'] = train['class'].astype(int)"
   ]
  },
  {
   "cell_type": "code",
   "execution_count": null,
   "id": "cf02434e",
   "metadata": {
    "execution": {
     "iopub.execute_input": "2023-01-18T13:55:17.922651Z",
     "iopub.status.busy": "2023-01-18T13:55:17.922376Z",
     "iopub.status.idle": "2023-01-18T13:55:17.938294Z",
     "shell.execute_reply": "2023-01-18T13:55:17.937464Z"
    },
    "papermill": {
     "duration": 0.022456,
     "end_time": "2023-01-18T13:55:17.940218",
     "exception": false,
     "start_time": "2023-01-18T13:55:17.917762",
     "status": "completed"
    },
    "tags": []
   },
   "outputs": [],
   "source": [
    "image_ids = train['image_path'].unique()\n",
    "\n",
    "train_ids = image_ids[:]\n",
    "\n",
    "train_df = train[train['image_path'].isin(train_ids)].copy()"
   ]
  },
  {
   "cell_type": "code",
   "execution_count": null,
   "id": "c1413e72",
   "metadata": {
    "execution": {
     "iopub.execute_input": "2023-01-18T13:55:17.948884Z",
     "iopub.status.busy": "2023-01-18T13:55:17.948583Z",
     "iopub.status.idle": "2023-01-18T13:55:17.960174Z",
     "shell.execute_reply": "2023-01-18T13:55:17.959287Z"
    },
    "papermill": {
     "duration": 0.018372,
     "end_time": "2023-01-18T13:55:17.962272",
     "exception": false,
     "start_time": "2023-01-18T13:55:17.943900",
     "status": "completed"
    },
    "tags": []
   },
   "outputs": [],
   "source": [
    "class CreateDataset(Dataset):\n",
    "\n",
    "    def __init__(self, dataframe, image_dir, transforms=None):\n",
    "        super().__init__()\n",
    "\n",
    "        self.image_ids = dataframe['image_path'].unique()\n",
    "        self.df = dataframe\n",
    "        self.image_dir = image_dir\n",
    "        self.transforms = transforms\n",
    "\n",
    "    def __getitem__(self, index: int):\n",
    "\n",
    "        image_id = self.image_ids[index]\n",
    "        records = self.df[self.df['image_path'] == image_id]\n",
    "\n",
    "        image = cv2.imread(f'{self.image_dir}/{image_id}', cv2.IMREAD_COLOR)\n",
    "        image = cv2.cvtColor(image, cv2.COLOR_BGR2RGB).astype(np.float32)\n",
    "        image /= 255.0\n",
    "\n",
    "        boxes = records[['xmin', 'ymin', 'xmax', 'ymax']].values\n",
    "        \n",
    "        area = (boxes[:, 3] - boxes[:, 1]) * (boxes[:, 2] - boxes[:, 0])\n",
    "        area = torch.as_tensor(area, dtype=torch.float32)\n",
    "        area = torch.as_tensor(area, dtype=torch.float32)\n",
    "\n",
    "        labels = records['class']\n",
    "        labels = labels.to_numpy(dtype= np.int64)\n",
    "        labels = torch.from_numpy(labels)\n",
    "        \n",
    "        # suppose all instances are not crowd\n",
    "        iscrowd = torch.zeros((records.shape[0],), dtype=torch.int64)\n",
    "        \n",
    "        target = {}\n",
    "        target['boxes'] = torch.from_numpy(boxes)\n",
    "        target['labels'] = labels\n",
    "        target['image_id'] = torch.tensor([index])\n",
    "        target['area'] = area\n",
    "        target['iscrowd'] = iscrowd\n",
    "\n",
    "        if self.transforms:\n",
    "            sample = {\n",
    "                'image': image,\n",
    "                'bboxes': target['boxes'],\n",
    "                'labels': labels\n",
    "            }\n",
    "            sample = self.transforms(**sample)\n",
    "            image = sample['image']\n",
    "            \n",
    "            target['boxes'] = torch.stack(tuple(map(torch.tensor, zip(*sample['bboxes'])))).permute(1, 0)\n",
    "\n",
    "        return image, target, image_id\n",
    "\n",
    "    def __len__(self) -> int:\n",
    "        return self.image_ids.shape[0]"
   ]
  },
  {
   "cell_type": "code",
   "execution_count": null,
   "id": "6c638b4c",
   "metadata": {
    "execution": {
     "iopub.execute_input": "2023-01-18T13:55:17.970641Z",
     "iopub.status.busy": "2023-01-18T13:55:17.970386Z",
     "iopub.status.idle": "2023-01-18T13:55:17.976038Z",
     "shell.execute_reply": "2023-01-18T13:55:17.975188Z"
    },
    "papermill": {
     "duration": 0.012,
     "end_time": "2023-01-18T13:55:17.977933",
     "exception": false,
     "start_time": "2023-01-18T13:55:17.965933",
     "status": "completed"
    },
    "tags": []
   },
   "outputs": [],
   "source": [
    "# Albumentations\n",
    "def get_train_transform():\n",
    "    return A.Compose([\n",
    "        A.Resize(960, 540),\n",
    "        ToTensorV2(p=1.0)\n",
    "    ], bbox_params={'format': 'pascal_voc', 'label_fields': ['labels']})\n",
    "\n",
    "def get_valid_transform():\n",
    "    return A.Compose([\n",
    "        A.Resize(960, 540),\n",
    "        ToTensorV2(p=1.0)\n",
    "    ], bbox_params={'format': 'pascal_voc', 'label_fields': ['labels']})"
   ]
  },
  {
   "cell_type": "code",
   "execution_count": null,
   "id": "42d3986e",
   "metadata": {
    "execution": {
     "iopub.execute_input": "2023-01-18T13:55:17.986124Z",
     "iopub.status.busy": "2023-01-18T13:55:17.985878Z",
     "iopub.status.idle": "2023-01-18T13:55:17.990683Z",
     "shell.execute_reply": "2023-01-18T13:55:17.989707Z"
    },
    "papermill": {
     "duration": 0.011395,
     "end_time": "2023-01-18T13:55:17.992882",
     "exception": false,
     "start_time": "2023-01-18T13:55:17.981487",
     "status": "completed"
    },
    "tags": []
   },
   "outputs": [],
   "source": [
    "def get_model():\n",
    "    \"\"\"\n",
    "    https://stackoverflow.com/questions/58362892/resnet-18-as-backbone-in-faster-r-cnn\n",
    "    \"\"\"\n",
    "    backbone = resnet_fpn_backbone('resnet101', pretrained=True)\n",
    "    model = FasterRCNN(backbone, num_classes=11)\n",
    "    return model"
   ]
  },
  {
   "cell_type": "code",
   "execution_count": null,
   "id": "dfd04f75",
   "metadata": {
    "execution": {
     "iopub.execute_input": "2023-01-18T13:55:18.001473Z",
     "iopub.status.busy": "2023-01-18T13:55:18.000866Z",
     "iopub.status.idle": "2023-01-18T13:55:18.004791Z",
     "shell.execute_reply": "2023-01-18T13:55:18.003932Z"
    },
    "papermill": {
     "duration": 0.010214,
     "end_time": "2023-01-18T13:55:18.006729",
     "exception": false,
     "start_time": "2023-01-18T13:55:17.996515",
     "status": "completed"
    },
    "tags": []
   },
   "outputs": [],
   "source": [
    "#model = torchvision.models.detection.fasterrcnn_resnet50_fpn(pretrained=True)"
   ]
  },
  {
   "cell_type": "code",
   "execution_count": null,
   "id": "b13b2ae0",
   "metadata": {
    "execution": {
     "iopub.execute_input": "2023-01-18T13:55:18.015431Z",
     "iopub.status.busy": "2023-01-18T13:55:18.014615Z",
     "iopub.status.idle": "2023-01-18T13:55:18.020845Z",
     "shell.execute_reply": "2023-01-18T13:55:18.019958Z"
    },
    "papermill": {
     "duration": 0.01241,
     "end_time": "2023-01-18T13:55:18.022740",
     "exception": false,
     "start_time": "2023-01-18T13:55:18.010330",
     "status": "completed"
    },
    "tags": []
   },
   "outputs": [],
   "source": [
    "CLASSES = train['class'].unique()\n",
    "CLASSES = list(CLASSES)\n",
    "#CLASSES.append('__background__')\n",
    "#CLASSES\n",
    "num_classes = len(CLASSES)"
   ]
  },
  {
   "cell_type": "code",
   "execution_count": null,
   "id": "4b036312",
   "metadata": {
    "execution": {
     "iopub.execute_input": "2023-01-18T13:55:18.031463Z",
     "iopub.status.busy": "2023-01-18T13:55:18.030847Z",
     "iopub.status.idle": "2023-01-18T13:55:18.035079Z",
     "shell.execute_reply": "2023-01-18T13:55:18.034275Z"
    },
    "papermill": {
     "duration": 0.01061,
     "end_time": "2023-01-18T13:55:18.037034",
     "exception": false,
     "start_time": "2023-01-18T13:55:18.026424",
     "status": "completed"
    },
    "tags": []
   },
   "outputs": [],
   "source": [
    "# get number of input features for the classifier\n",
    "# in_features = model.roi_heads.box_predictor.cls_score.in_features\n",
    "\n",
    "# replace the pre-trained head with a new one\n",
    "# model.roi_heads.box_predictor = FastRCNNPredictor(in_features, num_classes)"
   ]
  },
  {
   "cell_type": "code",
   "execution_count": null,
   "id": "20d9ce66",
   "metadata": {
    "execution": {
     "iopub.execute_input": "2023-01-18T13:55:18.045502Z",
     "iopub.status.busy": "2023-01-18T13:55:18.045218Z",
     "iopub.status.idle": "2023-01-18T13:55:18.050693Z",
     "shell.execute_reply": "2023-01-18T13:55:18.049810Z"
    },
    "papermill": {
     "duration": 0.011824,
     "end_time": "2023-01-18T13:55:18.052598",
     "exception": false,
     "start_time": "2023-01-18T13:55:18.040774",
     "status": "completed"
    },
    "tags": []
   },
   "outputs": [],
   "source": [
    "class Averager:\n",
    "    def __init__(self):\n",
    "        self.current_total = 0.0\n",
    "        self.iterations = 0.0\n",
    "\n",
    "    def send(self, value):\n",
    "        self.current_total += value\n",
    "        self.iterations += 1\n",
    "\n",
    "    @property\n",
    "    def value(self):\n",
    "        if self.iterations == 0:\n",
    "            return 0\n",
    "        else:\n",
    "            return 1.0 * self.current_total / self.iterations\n",
    "\n",
    "    def reset(self):\n",
    "        self.current_total = 0.0\n",
    "        self.iterations = 0.0"
   ]
  },
  {
   "cell_type": "code",
   "execution_count": null,
   "id": "7d7d5588",
   "metadata": {
    "execution": {
     "iopub.execute_input": "2023-01-18T13:55:18.061959Z",
     "iopub.status.busy": "2023-01-18T13:55:18.060614Z",
     "iopub.status.idle": "2023-01-18T13:55:18.071424Z",
     "shell.execute_reply": "2023-01-18T13:55:18.070625Z"
    },
    "papermill": {
     "duration": 0.01702,
     "end_time": "2023-01-18T13:55:18.073289",
     "exception": false,
     "start_time": "2023-01-18T13:55:18.056269",
     "status": "completed"
    },
    "tags": []
   },
   "outputs": [],
   "source": [
    "def collate_fn(batch):\n",
    "    return tuple(zip(*batch))\n",
    "\n",
    "DIR_TRAIN = '/kaggle/input/smartathon-dataset-zip/dataset/images'\n",
    "train_dataset = CreateDataset(train_df, DIR_TRAIN,get_train_transform())\n",
    "\n",
    "indices = torch.randperm(len(train_dataset)).tolist()\n",
    "\n",
    "train_data_loader = DataLoader(\n",
    "    train_dataset,\n",
    "    batch_size=8,\n",
    "    shuffle=False,\n",
    "    num_workers=2,\n",
    "    collate_fn=collate_fn\n",
    ")"
   ]
  },
  {
   "cell_type": "code",
   "execution_count": null,
   "id": "992aff73",
   "metadata": {
    "execution": {
     "iopub.execute_input": "2023-01-18T13:55:18.082009Z",
     "iopub.status.busy": "2023-01-18T13:55:18.081278Z",
     "iopub.status.idle": "2023-01-18T13:55:30.822708Z",
     "shell.execute_reply": "2023-01-18T13:55:30.821719Z"
    },
    "papermill": {
     "duration": 12.748218,
     "end_time": "2023-01-18T13:55:30.825100",
     "exception": false,
     "start_time": "2023-01-18T13:55:18.076882",
     "status": "completed"
    },
    "tags": []
   },
   "outputs": [],
   "source": [
    "model = get_model()\n",
    "model.to(device)\n",
    "params = [p for p in model.parameters() if p.requires_grad]\n",
    "optimizer = torch.optim.SGD(params, lr=0.005, momentum=0.9, weight_decay=0.0005)\n",
    "# lr_scheduler = torch.optim.lr_scheduler.StepLR(optimizer, step_size=3, gamma=0.1)\n",
    "lr_scheduler = None\n",
    "\n",
    "num_epochs = 23"
   ]
  },
  {
   "cell_type": "code",
   "execution_count": null,
   "id": "e28df163",
   "metadata": {
    "execution": {
     "iopub.execute_input": "2023-01-18T13:55:30.835925Z",
     "iopub.status.busy": "2023-01-18T13:55:30.835611Z",
     "iopub.status.idle": "2023-01-19T01:46:34.772500Z",
     "shell.execute_reply": "2023-01-19T01:46:34.770976Z"
    },
    "papermill": {
     "duration": 42663.951006,
     "end_time": "2023-01-19T01:46:34.781435",
     "exception": false,
     "start_time": "2023-01-18T13:55:30.830429",
     "status": "completed"
    },
    "tags": []
   },
   "outputs": [],
   "source": [
    "loss_hist = Averager()\n",
    "itr = 1\n",
    "\n",
    "model.train()\n",
    "\n",
    "for epoch in range(num_epochs):\n",
    "    loss_hist.reset()\n",
    "    \n",
    "    for images, targets, image_ids in train_data_loader:\n",
    "        \n",
    "        images = list(image.to(device) for image in images)\n",
    "        targets = [{k: v.to(device) for k, v in t.items()} for t in targets]\n",
    "\n",
    "        loss_dict = model(images, targets)\n",
    "\n",
    "        losses = sum(loss for loss in loss_dict.values())\n",
    "        loss_value = losses.item()\n",
    "\n",
    "        loss_hist.send(loss_value)\n",
    "\n",
    "        optimizer.zero_grad()\n",
    "        losses.backward()\n",
    "        optimizer.step()\n",
    "\n",
    "        if itr % 500 == 0:\n",
    "            print(f\"Iteration #{itr} loss: {loss_value}\")\n",
    "\n",
    "        itr += 1\n",
    "    \n",
    "    # update the learning rate\n",
    "    if lr_scheduler is not None:\n",
    "        lr_scheduler.step()\n",
    "\n",
    "    print(f\"Epoch #{epoch} loss: {loss_hist.value}\")\n",
    "    \n",
    "    if epoch%2 == 1:\n",
    "        torch.save(model.state_dict(), f'/kaggle/working/fastrcnn{epoch}.pt')"
   ]
  },
  {
   "cell_type": "code",
   "execution_count": null,
   "id": "7122f28f",
   "metadata": {
    "papermill": {
     "duration": 0.006927,
     "end_time": "2023-01-19T01:46:34.795515",
     "exception": false,
     "start_time": "2023-01-19T01:46:34.788588",
     "status": "completed"
    },
    "tags": []
   },
   "outputs": [],
   "source": []
  }
 ],
 "metadata": {
  "kernelspec": {
   "display_name": "Python 3 (ipykernel)",
   "language": "python",
   "name": "python3"
  },
  "language_info": {
   "codemirror_mode": {
    "name": "ipython",
    "version": 3
   },
   "file_extension": ".py",
   "mimetype": "text/x-python",
   "name": "python",
   "nbconvert_exporter": "python",
   "pygments_lexer": "ipython3",
   "version": "3.8.8"
  },
  "papermill": {
   "default_parameters": {},
   "duration": 42691.045605,
   "end_time": "2023-01-19T01:46:37.312128",
   "environment_variables": {},
   "exception": null,
   "input_path": "__notebook__.ipynb",
   "output_path": "__notebook__.ipynb",
   "parameters": {},
   "start_time": "2023-01-18T13:55:06.266523",
   "version": "2.3.4"
  },
  "widgets": {
   "application/vnd.jupyter.widget-state+json": {
    "state": {
     "19622d61bdf447ec8c84bd0489c7cb47": {
      "model_module": "@jupyter-widgets/controls",
      "model_module_version": "1.5.0",
      "model_name": "HTMLModel",
      "state": {
       "_dom_classes": [],
       "_model_module": "@jupyter-widgets/controls",
       "_model_module_version": "1.5.0",
       "_model_name": "HTMLModel",
       "_view_count": null,
       "_view_module": "@jupyter-widgets/controls",
       "_view_module_version": "1.5.0",
       "_view_name": "HTMLView",
       "description": "",
       "description_tooltip": null,
       "layout": "IPY_MODEL_6eb4af5fb96949ee9dd0b1f3c3afbf31",
       "placeholder": "​",
       "style": "IPY_MODEL_a866e59fadf74587a6430ad008828258",
       "value": " 171M/171M [00:08&lt;00:00, 23.5MB/s]"
      }
     },
     "6eb4af5fb96949ee9dd0b1f3c3afbf31": {
      "model_module": "@jupyter-widgets/base",
      "model_module_version": "1.2.0",
      "model_name": "LayoutModel",
      "state": {
       "_model_module": "@jupyter-widgets/base",
       "_model_module_version": "1.2.0",
       "_model_name": "LayoutModel",
       "_view_count": null,
       "_view_module": "@jupyter-widgets/base",
       "_view_module_version": "1.2.0",
       "_view_name": "LayoutView",
       "align_content": null,
       "align_items": null,
       "align_self": null,
       "border": null,
       "bottom": null,
       "display": null,
       "flex": null,
       "flex_flow": null,
       "grid_area": null,
       "grid_auto_columns": null,
       "grid_auto_flow": null,
       "grid_auto_rows": null,
       "grid_column": null,
       "grid_gap": null,
       "grid_row": null,
       "grid_template_areas": null,
       "grid_template_columns": null,
       "grid_template_rows": null,
       "height": null,
       "justify_content": null,
       "justify_items": null,
       "left": null,
       "margin": null,
       "max_height": null,
       "max_width": null,
       "min_height": null,
       "min_width": null,
       "object_fit": null,
       "object_position": null,
       "order": null,
       "overflow": null,
       "overflow_x": null,
       "overflow_y": null,
       "padding": null,
       "right": null,
       "top": null,
       "visibility": null,
       "width": null
      }
     },
     "824502239b1c42a7aff27c105a6b9e7f": {
      "model_module": "@jupyter-widgets/controls",
      "model_module_version": "1.5.0",
      "model_name": "ProgressStyleModel",
      "state": {
       "_model_module": "@jupyter-widgets/controls",
       "_model_module_version": "1.5.0",
       "_model_name": "ProgressStyleModel",
       "_view_count": null,
       "_view_module": "@jupyter-widgets/base",
       "_view_module_version": "1.2.0",
       "_view_name": "StyleView",
       "bar_color": null,
       "description_width": ""
      }
     },
     "8f1df849ee50450795cd67664180fb80": {
      "model_module": "@jupyter-widgets/base",
      "model_module_version": "1.2.0",
      "model_name": "LayoutModel",
      "state": {
       "_model_module": "@jupyter-widgets/base",
       "_model_module_version": "1.2.0",
       "_model_name": "LayoutModel",
       "_view_count": null,
       "_view_module": "@jupyter-widgets/base",
       "_view_module_version": "1.2.0",
       "_view_name": "LayoutView",
       "align_content": null,
       "align_items": null,
       "align_self": null,
       "border": null,
       "bottom": null,
       "display": null,
       "flex": null,
       "flex_flow": null,
       "grid_area": null,
       "grid_auto_columns": null,
       "grid_auto_flow": null,
       "grid_auto_rows": null,
       "grid_column": null,
       "grid_gap": null,
       "grid_row": null,
       "grid_template_areas": null,
       "grid_template_columns": null,
       "grid_template_rows": null,
       "height": null,
       "justify_content": null,
       "justify_items": null,
       "left": null,
       "margin": null,
       "max_height": null,
       "max_width": null,
       "min_height": null,
       "min_width": null,
       "object_fit": null,
       "object_position": null,
       "order": null,
       "overflow": null,
       "overflow_x": null,
       "overflow_y": null,
       "padding": null,
       "right": null,
       "top": null,
       "visibility": null,
       "width": null
      }
     },
     "9522d19cbba043a097baed7744d5212d": {
      "model_module": "@jupyter-widgets/controls",
      "model_module_version": "1.5.0",
      "model_name": "HBoxModel",
      "state": {
       "_dom_classes": [],
       "_model_module": "@jupyter-widgets/controls",
       "_model_module_version": "1.5.0",
       "_model_name": "HBoxModel",
       "_view_count": null,
       "_view_module": "@jupyter-widgets/controls",
       "_view_module_version": "1.5.0",
       "_view_name": "HBoxView",
       "box_style": "",
       "children": [
        "IPY_MODEL_9be9f6ba4c80459baef5b6ba1dafae67",
        "IPY_MODEL_956b1b30b5c94ca7b9cce41a6dbe86fa",
        "IPY_MODEL_19622d61bdf447ec8c84bd0489c7cb47"
       ],
       "layout": "IPY_MODEL_c7fc780f32ce475db8580d941f57d561"
      }
     },
     "956b1b30b5c94ca7b9cce41a6dbe86fa": {
      "model_module": "@jupyter-widgets/controls",
      "model_module_version": "1.5.0",
      "model_name": "FloatProgressModel",
      "state": {
       "_dom_classes": [],
       "_model_module": "@jupyter-widgets/controls",
       "_model_module_version": "1.5.0",
       "_model_name": "FloatProgressModel",
       "_view_count": null,
       "_view_module": "@jupyter-widgets/controls",
       "_view_module_version": "1.5.0",
       "_view_name": "ProgressView",
       "bar_style": "success",
       "description": "",
       "description_tooltip": null,
       "layout": "IPY_MODEL_8f1df849ee50450795cd67664180fb80",
       "max": 178793939,
       "min": 0,
       "orientation": "horizontal",
       "style": "IPY_MODEL_824502239b1c42a7aff27c105a6b9e7f",
       "value": 178793939
      }
     },
     "9be9f6ba4c80459baef5b6ba1dafae67": {
      "model_module": "@jupyter-widgets/controls",
      "model_module_version": "1.5.0",
      "model_name": "HTMLModel",
      "state": {
       "_dom_classes": [],
       "_model_module": "@jupyter-widgets/controls",
       "_model_module_version": "1.5.0",
       "_model_name": "HTMLModel",
       "_view_count": null,
       "_view_module": "@jupyter-widgets/controls",
       "_view_module_version": "1.5.0",
       "_view_name": "HTMLView",
       "description": "",
       "description_tooltip": null,
       "layout": "IPY_MODEL_d6d388e258f043cea216a1dd5a6e053b",
       "placeholder": "​",
       "style": "IPY_MODEL_a57ef9a47f32465fbb8230139faf157c",
       "value": "100%"
      }
     },
     "a57ef9a47f32465fbb8230139faf157c": {
      "model_module": "@jupyter-widgets/controls",
      "model_module_version": "1.5.0",
      "model_name": "DescriptionStyleModel",
      "state": {
       "_model_module": "@jupyter-widgets/controls",
       "_model_module_version": "1.5.0",
       "_model_name": "DescriptionStyleModel",
       "_view_count": null,
       "_view_module": "@jupyter-widgets/base",
       "_view_module_version": "1.2.0",
       "_view_name": "StyleView",
       "description_width": ""
      }
     },
     "a866e59fadf74587a6430ad008828258": {
      "model_module": "@jupyter-widgets/controls",
      "model_module_version": "1.5.0",
      "model_name": "DescriptionStyleModel",
      "state": {
       "_model_module": "@jupyter-widgets/controls",
       "_model_module_version": "1.5.0",
       "_model_name": "DescriptionStyleModel",
       "_view_count": null,
       "_view_module": "@jupyter-widgets/base",
       "_view_module_version": "1.2.0",
       "_view_name": "StyleView",
       "description_width": ""
      }
     },
     "c7fc780f32ce475db8580d941f57d561": {
      "model_module": "@jupyter-widgets/base",
      "model_module_version": "1.2.0",
      "model_name": "LayoutModel",
      "state": {
       "_model_module": "@jupyter-widgets/base",
       "_model_module_version": "1.2.0",
       "_model_name": "LayoutModel",
       "_view_count": null,
       "_view_module": "@jupyter-widgets/base",
       "_view_module_version": "1.2.0",
       "_view_name": "LayoutView",
       "align_content": null,
       "align_items": null,
       "align_self": null,
       "border": null,
       "bottom": null,
       "display": null,
       "flex": null,
       "flex_flow": null,
       "grid_area": null,
       "grid_auto_columns": null,
       "grid_auto_flow": null,
       "grid_auto_rows": null,
       "grid_column": null,
       "grid_gap": null,
       "grid_row": null,
       "grid_template_areas": null,
       "grid_template_columns": null,
       "grid_template_rows": null,
       "height": null,
       "justify_content": null,
       "justify_items": null,
       "left": null,
       "margin": null,
       "max_height": null,
       "max_width": null,
       "min_height": null,
       "min_width": null,
       "object_fit": null,
       "object_position": null,
       "order": null,
       "overflow": null,
       "overflow_x": null,
       "overflow_y": null,
       "padding": null,
       "right": null,
       "top": null,
       "visibility": null,
       "width": null
      }
     },
     "d6d388e258f043cea216a1dd5a6e053b": {
      "model_module": "@jupyter-widgets/base",
      "model_module_version": "1.2.0",
      "model_name": "LayoutModel",
      "state": {
       "_model_module": "@jupyter-widgets/base",
       "_model_module_version": "1.2.0",
       "_model_name": "LayoutModel",
       "_view_count": null,
       "_view_module": "@jupyter-widgets/base",
       "_view_module_version": "1.2.0",
       "_view_name": "LayoutView",
       "align_content": null,
       "align_items": null,
       "align_self": null,
       "border": null,
       "bottom": null,
       "display": null,
       "flex": null,
       "flex_flow": null,
       "grid_area": null,
       "grid_auto_columns": null,
       "grid_auto_flow": null,
       "grid_auto_rows": null,
       "grid_column": null,
       "grid_gap": null,
       "grid_row": null,
       "grid_template_areas": null,
       "grid_template_columns": null,
       "grid_template_rows": null,
       "height": null,
       "justify_content": null,
       "justify_items": null,
       "left": null,
       "margin": null,
       "max_height": null,
       "max_width": null,
       "min_height": null,
       "min_width": null,
       "object_fit": null,
       "object_position": null,
       "order": null,
       "overflow": null,
       "overflow_x": null,
       "overflow_y": null,
       "padding": null,
       "right": null,
       "top": null,
       "visibility": null,
       "width": null
      }
     }
    },
    "version_major": 2,
    "version_minor": 0
   }
  }
 },
 "nbformat": 4,
 "nbformat_minor": 5
}
