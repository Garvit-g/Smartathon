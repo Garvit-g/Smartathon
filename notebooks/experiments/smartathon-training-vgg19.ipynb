{
 "cells": [
  {
   "cell_type": "code",
   "execution_count": 1,
   "id": "6b41d690",
   "metadata": {
    "_cell_guid": "b1076dfc-b9ad-4769-8c92-a6c4dae69d19",
    "_uuid": "8f2839f25d086af736a60e9eeb907d3b93b6e0e5",
    "execution": {
     "iopub.execute_input": "2023-01-14T10:11:14.565182Z",
     "iopub.status.busy": "2023-01-14T10:11:14.564439Z",
     "iopub.status.idle": "2023-01-14T10:11:20.937002Z",
     "shell.execute_reply": "2023-01-14T10:11:20.936001Z"
    },
    "papermill": {
     "duration": 6.384242,
     "end_time": "2023-01-14T10:11:20.939402",
     "exception": false,
     "start_time": "2023-01-14T10:11:14.555160",
     "status": "completed"
    },
    "tags": []
   },
   "outputs": [],
   "source": [
    "import numpy as np\n",
    "import pandas as pd\n",
    "import cv2\n",
    "from tensorflow.keras.applications.vgg19 import VGG19\n",
    "from tensorflow.keras.layers import Flatten\n",
    "from tensorflow.keras.layers import Dropout\n",
    "from tensorflow.keras.layers import Dense\n",
    "from tensorflow.keras.layers import Input\n",
    "from tensorflow.keras.models import Model\n",
    "from tensorflow.keras.optimizers import Adam\n",
    "from tensorflow.keras.preprocessing.image import img_to_array\n",
    "from tensorflow.keras.preprocessing.image import load_img\n",
    "from tensorflow.keras.utils import to_categorical\n",
    "from sklearn.preprocessing import LabelBinarizer\n",
    "from sklearn.model_selection import train_test_split\n",
    "import pickle"
   ]
  },
  {
   "cell_type": "code",
   "execution_count": 2,
   "id": "24e21383",
   "metadata": {
    "execution": {
     "iopub.execute_input": "2023-01-14T10:11:20.949582Z",
     "iopub.status.busy": "2023-01-14T10:11:20.948440Z",
     "iopub.status.idle": "2023-01-14T10:11:20.996015Z",
     "shell.execute_reply": "2023-01-14T10:11:20.994947Z"
    },
    "papermill": {
     "duration": 0.05432,
     "end_time": "2023-01-14T10:11:20.998076",
     "exception": false,
     "start_time": "2023-01-14T10:11:20.943756",
     "status": "completed"
    },
    "tags": []
   },
   "outputs": [],
   "source": [
    "annot = pd.read_csv('/kaggle/input/smartathon-dataset-zip/dataset/train.csv', nrows=9500)\n",
    "annot = annot.drop(columns=['name'])"
   ]
  },
  {
   "cell_type": "code",
   "execution_count": 3,
   "id": "ed1e5678",
   "metadata": {
    "execution": {
     "iopub.execute_input": "2023-01-14T10:11:21.007975Z",
     "iopub.status.busy": "2023-01-14T10:11:21.007079Z",
     "iopub.status.idle": "2023-01-14T10:11:21.038603Z",
     "shell.execute_reply": "2023-01-14T10:11:21.037648Z"
    },
    "papermill": {
     "duration": 0.038696,
     "end_time": "2023-01-14T10:11:21.040981",
     "exception": false,
     "start_time": "2023-01-14T10:11:21.002285",
     "status": "completed"
    },
    "tags": []
   },
   "outputs": [],
   "source": [
    "x = pd.DataFrame(columns=annot.columns)\n",
    "classes = list(annot['class'].unique())\n",
    "for cl in classes:\n",
    "    if annot.loc[annot['class']==cl, :].shape[0]>=1000:\n",
    "        x = x.append(annot.loc[annot['class']==cl, :].sample(n=1000, random_state=42), ignore_index=True)\n",
    "    else:\n",
    "        x = x.append(annot.loc[annot['class']==cl, :], ignore_index=True)\n",
    "annot = x"
   ]
  },
  {
   "cell_type": "code",
   "execution_count": 4,
   "id": "90c72842",
   "metadata": {
    "execution": {
     "iopub.execute_input": "2023-01-14T10:11:21.051054Z",
     "iopub.status.busy": "2023-01-14T10:11:21.050413Z",
     "iopub.status.idle": "2023-01-14T10:11:21.073151Z",
     "shell.execute_reply": "2023-01-14T10:11:21.072109Z"
    },
    "papermill": {
     "duration": 0.02976,
     "end_time": "2023-01-14T10:11:21.074997",
     "exception": false,
     "start_time": "2023-01-14T10:11:21.045237",
     "status": "completed"
    },
    "tags": []
   },
   "outputs": [
    {
     "data": {
      "text/html": [
       "<div>\n",
       "<style scoped>\n",
       "    .dataframe tbody tr th:only-of-type {\n",
       "        vertical-align: middle;\n",
       "    }\n",
       "\n",
       "    .dataframe tbody tr th {\n",
       "        vertical-align: top;\n",
       "    }\n",
       "\n",
       "    .dataframe thead th {\n",
       "        text-align: right;\n",
       "    }\n",
       "</style>\n",
       "<table border=\"1\" class=\"dataframe\">\n",
       "  <thead>\n",
       "    <tr style=\"text-align: right;\">\n",
       "      <th></th>\n",
       "      <th>image_path</th>\n",
       "      <th>xmin</th>\n",
       "      <th>ymin</th>\n",
       "      <th>xmax</th>\n",
       "      <th>ymax</th>\n",
       "      <th>class</th>\n",
       "    </tr>\n",
       "  </thead>\n",
       "  <tbody>\n",
       "    <tr>\n",
       "      <th>0</th>\n",
       "      <td>9295e8d25548246e82421d824c6cdfe4.jpg</td>\n",
       "      <td>-2.0</td>\n",
       "      <td>355.0</td>\n",
       "      <td>163.0</td>\n",
       "      <td>452.0</td>\n",
       "      <td>3.0</td>\n",
       "    </tr>\n",
       "    <tr>\n",
       "      <th>1</th>\n",
       "      <td>dc13b32699962e9aa3dc8df689056955.jpg</td>\n",
       "      <td>900.0</td>\n",
       "      <td>277.0</td>\n",
       "      <td>949.0</td>\n",
       "      <td>313.0</td>\n",
       "      <td>3.0</td>\n",
       "    </tr>\n",
       "    <tr>\n",
       "      <th>2</th>\n",
       "      <td>694bb9f80b7af62744f97dcb8e4e3584.jpg</td>\n",
       "      <td>612.0</td>\n",
       "      <td>155.0</td>\n",
       "      <td>674.0</td>\n",
       "      <td>228.0</td>\n",
       "      <td>3.0</td>\n",
       "    </tr>\n",
       "    <tr>\n",
       "      <th>3</th>\n",
       "      <td>19fb2f72c1c1fecb365d87b5e6e02e31.jpg</td>\n",
       "      <td>539.0</td>\n",
       "      <td>279.0</td>\n",
       "      <td>619.0</td>\n",
       "      <td>338.0</td>\n",
       "      <td>3.0</td>\n",
       "    </tr>\n",
       "    <tr>\n",
       "      <th>4</th>\n",
       "      <td>cf45a6b57ca336ec1a670888de9bc7c7.jpg</td>\n",
       "      <td>509.0</td>\n",
       "      <td>224.0</td>\n",
       "      <td>583.0</td>\n",
       "      <td>277.0</td>\n",
       "      <td>3.0</td>\n",
       "    </tr>\n",
       "  </tbody>\n",
       "</table>\n",
       "</div>"
      ],
      "text/plain": [
       "                             image_path   xmin   ymin   xmax   ymax  class\n",
       "0  9295e8d25548246e82421d824c6cdfe4.jpg   -2.0  355.0  163.0  452.0    3.0\n",
       "1  dc13b32699962e9aa3dc8df689056955.jpg  900.0  277.0  949.0  313.0    3.0\n",
       "2  694bb9f80b7af62744f97dcb8e4e3584.jpg  612.0  155.0  674.0  228.0    3.0\n",
       "3  19fb2f72c1c1fecb365d87b5e6e02e31.jpg  539.0  279.0  619.0  338.0    3.0\n",
       "4  cf45a6b57ca336ec1a670888de9bc7c7.jpg  509.0  224.0  583.0  277.0    3.0"
      ]
     },
     "execution_count": 4,
     "metadata": {},
     "output_type": "execute_result"
    }
   ],
   "source": [
    "annot = annot[['image_path', 'xmin', 'ymin', 'xmax', 'ymax', 'class']]\n",
    "annot.head()"
   ]
  },
  {
   "cell_type": "code",
   "execution_count": 5,
   "id": "3736d498",
   "metadata": {
    "execution": {
     "iopub.execute_input": "2023-01-14T10:11:21.084599Z",
     "iopub.status.busy": "2023-01-14T10:11:21.084334Z",
     "iopub.status.idle": "2023-01-14T10:11:21.098517Z",
     "shell.execute_reply": "2023-01-14T10:11:21.097661Z"
    },
    "papermill": {
     "duration": 0.021047,
     "end_time": "2023-01-14T10:11:21.100452",
     "exception": false,
     "start_time": "2023-01-14T10:11:21.079405",
     "status": "completed"
    },
    "tags": []
   },
   "outputs": [
    {
     "data": {
      "text/html": [
       "<div>\n",
       "<style scoped>\n",
       "    .dataframe tbody tr th:only-of-type {\n",
       "        vertical-align: middle;\n",
       "    }\n",
       "\n",
       "    .dataframe tbody tr th {\n",
       "        vertical-align: top;\n",
       "    }\n",
       "\n",
       "    .dataframe thead th {\n",
       "        text-align: right;\n",
       "    }\n",
       "</style>\n",
       "<table border=\"1\" class=\"dataframe\">\n",
       "  <thead>\n",
       "    <tr style=\"text-align: right;\">\n",
       "      <th></th>\n",
       "      <th>image_path</th>\n",
       "      <th>xmin</th>\n",
       "      <th>ymin</th>\n",
       "      <th>xmax</th>\n",
       "      <th>ymax</th>\n",
       "      <th>class</th>\n",
       "    </tr>\n",
       "  </thead>\n",
       "  <tbody>\n",
       "    <tr>\n",
       "      <th>0</th>\n",
       "      <td>/kaggle/input/smartathon-dataset-zip/dataset/i...</td>\n",
       "      <td>-2.0</td>\n",
       "      <td>355.0</td>\n",
       "      <td>163.0</td>\n",
       "      <td>452.0</td>\n",
       "      <td>3.0</td>\n",
       "    </tr>\n",
       "    <tr>\n",
       "      <th>1</th>\n",
       "      <td>/kaggle/input/smartathon-dataset-zip/dataset/i...</td>\n",
       "      <td>900.0</td>\n",
       "      <td>277.0</td>\n",
       "      <td>949.0</td>\n",
       "      <td>313.0</td>\n",
       "      <td>3.0</td>\n",
       "    </tr>\n",
       "    <tr>\n",
       "      <th>2</th>\n",
       "      <td>/kaggle/input/smartathon-dataset-zip/dataset/i...</td>\n",
       "      <td>612.0</td>\n",
       "      <td>155.0</td>\n",
       "      <td>674.0</td>\n",
       "      <td>228.0</td>\n",
       "      <td>3.0</td>\n",
       "    </tr>\n",
       "    <tr>\n",
       "      <th>3</th>\n",
       "      <td>/kaggle/input/smartathon-dataset-zip/dataset/i...</td>\n",
       "      <td>539.0</td>\n",
       "      <td>279.0</td>\n",
       "      <td>619.0</td>\n",
       "      <td>338.0</td>\n",
       "      <td>3.0</td>\n",
       "    </tr>\n",
       "    <tr>\n",
       "      <th>4</th>\n",
       "      <td>/kaggle/input/smartathon-dataset-zip/dataset/i...</td>\n",
       "      <td>509.0</td>\n",
       "      <td>224.0</td>\n",
       "      <td>583.0</td>\n",
       "      <td>277.0</td>\n",
       "      <td>3.0</td>\n",
       "    </tr>\n",
       "  </tbody>\n",
       "</table>\n",
       "</div>"
      ],
      "text/plain": [
       "                                          image_path   xmin   ymin   xmax  \\\n",
       "0  /kaggle/input/smartathon-dataset-zip/dataset/i...   -2.0  355.0  163.0   \n",
       "1  /kaggle/input/smartathon-dataset-zip/dataset/i...  900.0  277.0  949.0   \n",
       "2  /kaggle/input/smartathon-dataset-zip/dataset/i...  612.0  155.0  674.0   \n",
       "3  /kaggle/input/smartathon-dataset-zip/dataset/i...  539.0  279.0  619.0   \n",
       "4  /kaggle/input/smartathon-dataset-zip/dataset/i...  509.0  224.0  583.0   \n",
       "\n",
       "    ymax  class  \n",
       "0  452.0    3.0  \n",
       "1  313.0    3.0  \n",
       "2  228.0    3.0  \n",
       "3  338.0    3.0  \n",
       "4  277.0    3.0  "
      ]
     },
     "execution_count": 5,
     "metadata": {},
     "output_type": "execute_result"
    }
   ],
   "source": [
    "annot['image_path'] = \"/kaggle/input/smartathon-dataset-zip/dataset/images/\" + annot['image_path']\n",
    "annot.head()"
   ]
  },
  {
   "cell_type": "code",
   "execution_count": 6,
   "id": "be876d71",
   "metadata": {
    "execution": {
     "iopub.execute_input": "2023-01-14T10:11:21.111736Z",
     "iopub.status.busy": "2023-01-14T10:11:21.110023Z",
     "iopub.status.idle": "2023-01-14T10:11:21.127471Z",
     "shell.execute_reply": "2023-01-14T10:11:21.126546Z"
    },
    "papermill": {
     "duration": 0.024766,
     "end_time": "2023-01-14T10:11:21.129572",
     "exception": false,
     "start_time": "2023-01-14T10:11:21.104806",
     "status": "completed"
    },
    "tags": []
   },
   "outputs": [
    {
     "data": {
      "text/html": [
       "<div>\n",
       "<style scoped>\n",
       "    .dataframe tbody tr th:only-of-type {\n",
       "        vertical-align: middle;\n",
       "    }\n",
       "\n",
       "    .dataframe tbody tr th {\n",
       "        vertical-align: top;\n",
       "    }\n",
       "\n",
       "    .dataframe thead th {\n",
       "        text-align: right;\n",
       "    }\n",
       "</style>\n",
       "<table border=\"1\" class=\"dataframe\">\n",
       "  <thead>\n",
       "    <tr style=\"text-align: right;\">\n",
       "      <th></th>\n",
       "      <th>image_path</th>\n",
       "      <th>xmin</th>\n",
       "      <th>ymin</th>\n",
       "      <th>xmax</th>\n",
       "      <th>ymax</th>\n",
       "      <th>class</th>\n",
       "    </tr>\n",
       "  </thead>\n",
       "  <tbody>\n",
       "    <tr>\n",
       "      <th>0</th>\n",
       "      <td>/kaggle/input/smartathon-dataset-zip/dataset/i...</td>\n",
       "      <td>-2.0</td>\n",
       "      <td>355.0</td>\n",
       "      <td>163.0</td>\n",
       "      <td>452.0</td>\n",
       "      <td>3</td>\n",
       "    </tr>\n",
       "    <tr>\n",
       "      <th>1</th>\n",
       "      <td>/kaggle/input/smartathon-dataset-zip/dataset/i...</td>\n",
       "      <td>900.0</td>\n",
       "      <td>277.0</td>\n",
       "      <td>949.0</td>\n",
       "      <td>313.0</td>\n",
       "      <td>3</td>\n",
       "    </tr>\n",
       "    <tr>\n",
       "      <th>2</th>\n",
       "      <td>/kaggle/input/smartathon-dataset-zip/dataset/i...</td>\n",
       "      <td>612.0</td>\n",
       "      <td>155.0</td>\n",
       "      <td>674.0</td>\n",
       "      <td>228.0</td>\n",
       "      <td>3</td>\n",
       "    </tr>\n",
       "    <tr>\n",
       "      <th>3</th>\n",
       "      <td>/kaggle/input/smartathon-dataset-zip/dataset/i...</td>\n",
       "      <td>539.0</td>\n",
       "      <td>279.0</td>\n",
       "      <td>619.0</td>\n",
       "      <td>338.0</td>\n",
       "      <td>3</td>\n",
       "    </tr>\n",
       "    <tr>\n",
       "      <th>4</th>\n",
       "      <td>/kaggle/input/smartathon-dataset-zip/dataset/i...</td>\n",
       "      <td>509.0</td>\n",
       "      <td>224.0</td>\n",
       "      <td>583.0</td>\n",
       "      <td>277.0</td>\n",
       "      <td>3</td>\n",
       "    </tr>\n",
       "  </tbody>\n",
       "</table>\n",
       "</div>"
      ],
      "text/plain": [
       "                                          image_path   xmin   ymin   xmax  \\\n",
       "0  /kaggle/input/smartathon-dataset-zip/dataset/i...   -2.0  355.0  163.0   \n",
       "1  /kaggle/input/smartathon-dataset-zip/dataset/i...  900.0  277.0  949.0   \n",
       "2  /kaggle/input/smartathon-dataset-zip/dataset/i...  612.0  155.0  674.0   \n",
       "3  /kaggle/input/smartathon-dataset-zip/dataset/i...  539.0  279.0  619.0   \n",
       "4  /kaggle/input/smartathon-dataset-zip/dataset/i...  509.0  224.0  583.0   \n",
       "\n",
       "    ymax  class  \n",
       "0  452.0      3  \n",
       "1  313.0      3  \n",
       "2  228.0      3  \n",
       "3  338.0      3  \n",
       "4  277.0      3  "
      ]
     },
     "execution_count": 6,
     "metadata": {},
     "output_type": "execute_result"
    }
   ],
   "source": [
    "annot['class'] = annot['class'].apply(lambda x: int(x))\n",
    "annot.head()"
   ]
  },
  {
   "cell_type": "code",
   "execution_count": 7,
   "id": "49458575",
   "metadata": {
    "execution": {
     "iopub.execute_input": "2023-01-14T10:11:21.141019Z",
     "iopub.status.busy": "2023-01-14T10:11:21.140120Z",
     "iopub.status.idle": "2023-01-14T10:17:17.321566Z",
     "shell.execute_reply": "2023-01-14T10:17:17.320515Z"
    },
    "papermill": {
     "duration": 356.1896,
     "end_time": "2023-01-14T10:17:17.324095",
     "exception": false,
     "start_time": "2023-01-14T10:11:21.134495",
     "status": "completed"
    },
    "tags": []
   },
   "outputs": [],
   "source": [
    "data = []\n",
    "labels = []\n",
    "bboxes = []\n",
    "impaths = []\n",
    "\n",
    "for i in range(annot.shape[0]):\n",
    "    img = cv2.imread(annot.iloc[i, 0])\n",
    "    (h, w) = img.shape[:2]\n",
    "    annot.iloc[i, 1] = float(annot.iloc[i, 1])/w\n",
    "    annot.iloc[i, 2] = float(annot.iloc[i, 2])/h\n",
    "    annot.iloc[i, 3] = float(annot.iloc[i, 3])/w\n",
    "    annot.iloc[i, 4] = float(annot.iloc[i, 4])/h\n",
    "\n",
    "    img = load_img(annot.iloc[i, 0], target_size=(224, 224))\n",
    "    img = img_to_array(img)\n",
    "    data.append(img)\n",
    "    labels.append(annot.iloc[i, 5])\n",
    "    bboxes.append((annot.iloc[i,1], annot.iloc[i,2], annot.iloc[i,3], annot.iloc[i,4]))\n",
    "    impaths.append(annot.iloc[i,0])"
   ]
  },
  {
   "cell_type": "code",
   "execution_count": 8,
   "id": "8ecbaa13",
   "metadata": {
    "execution": {
     "iopub.execute_input": "2023-01-14T10:17:17.334742Z",
     "iopub.status.busy": "2023-01-14T10:17:17.334428Z",
     "iopub.status.idle": "2023-01-14T10:17:18.774938Z",
     "shell.execute_reply": "2023-01-14T10:17:18.773712Z"
    },
    "papermill": {
     "duration": 1.453569,
     "end_time": "2023-01-14T10:17:18.782562",
     "exception": false,
     "start_time": "2023-01-14T10:17:17.328993",
     "status": "completed"
    },
    "tags": []
   },
   "outputs": [],
   "source": [
    "data = np.array(data, dtype=\"float32\") / 255.0\n",
    "labels = np.array(labels)\n",
    "bboxes = np.array(bboxes, dtype=\"float32\")\n",
    "impaths = np.array(impaths)"
   ]
  },
  {
   "cell_type": "code",
   "execution_count": 9,
   "id": "5daa0826",
   "metadata": {
    "execution": {
     "iopub.execute_input": "2023-01-14T10:17:18.798102Z",
     "iopub.status.busy": "2023-01-14T10:17:18.797386Z",
     "iopub.status.idle": "2023-01-14T10:17:18.805333Z",
     "shell.execute_reply": "2023-01-14T10:17:18.804505Z"
    },
    "papermill": {
     "duration": 0.017604,
     "end_time": "2023-01-14T10:17:18.807563",
     "exception": false,
     "start_time": "2023-01-14T10:17:18.789959",
     "status": "completed"
    },
    "tags": []
   },
   "outputs": [],
   "source": [
    "lb = LabelBinarizer()\n",
    "labels = lb.fit_transform(labels)"
   ]
  },
  {
   "cell_type": "code",
   "execution_count": 10,
   "id": "0a72da3c",
   "metadata": {
    "execution": {
     "iopub.execute_input": "2023-01-14T10:17:18.823465Z",
     "iopub.status.busy": "2023-01-14T10:17:18.823140Z",
     "iopub.status.idle": "2023-01-14T10:17:19.832389Z",
     "shell.execute_reply": "2023-01-14T10:17:19.831380Z"
    },
    "papermill": {
     "duration": 1.019374,
     "end_time": "2023-01-14T10:17:19.835359",
     "exception": false,
     "start_time": "2023-01-14T10:17:18.815985",
     "status": "completed"
    },
    "tags": []
   },
   "outputs": [],
   "source": [
    "split = train_test_split(data, labels, bboxes, impaths, test_size=0.20, random_state=42)"
   ]
  },
  {
   "cell_type": "code",
   "execution_count": 11,
   "id": "4dad7721",
   "metadata": {
    "execution": {
     "iopub.execute_input": "2023-01-14T10:17:19.850243Z",
     "iopub.status.busy": "2023-01-14T10:17:19.849921Z",
     "iopub.status.idle": "2023-01-14T10:17:19.855251Z",
     "shell.execute_reply": "2023-01-14T10:17:19.854483Z"
    },
    "papermill": {
     "duration": 0.016307,
     "end_time": "2023-01-14T10:17:19.859048",
     "exception": false,
     "start_time": "2023-01-14T10:17:19.842741",
     "status": "completed"
    },
    "tags": []
   },
   "outputs": [],
   "source": [
    "(trainImages, testImages) = split[:2]\n",
    "(trainLabels, testLabels) = split[2:4]\n",
    "(trainBBoxes, testBBoxes) = split[4:6]\n",
    "(trainPaths, testPaths) = split[6:]"
   ]
  },
  {
   "cell_type": "code",
   "execution_count": 12,
   "id": "061b10d1",
   "metadata": {
    "execution": {
     "iopub.execute_input": "2023-01-14T10:17:19.872888Z",
     "iopub.status.busy": "2023-01-14T10:17:19.872576Z",
     "iopub.status.idle": "2023-01-14T10:17:23.369179Z",
     "shell.execute_reply": "2023-01-14T10:17:23.368151Z"
    },
    "papermill": {
     "duration": 3.506057,
     "end_time": "2023-01-14T10:17:23.371599",
     "exception": false,
     "start_time": "2023-01-14T10:17:19.865542",
     "status": "completed"
    },
    "tags": []
   },
   "outputs": [
    {
     "name": "stderr",
     "output_type": "stream",
     "text": [
      "2023-01-14 10:17:19.988778: I tensorflow/stream_executor/cuda/cuda_gpu_executor.cc:937] successful NUMA node read from SysFS had negative value (-1), but there must be at least one NUMA node, so returning NUMA node zero\n",
      "2023-01-14 10:17:20.092704: I tensorflow/stream_executor/cuda/cuda_gpu_executor.cc:937] successful NUMA node read from SysFS had negative value (-1), but there must be at least one NUMA node, so returning NUMA node zero\n",
      "2023-01-14 10:17:20.093457: I tensorflow/stream_executor/cuda/cuda_gpu_executor.cc:937] successful NUMA node read from SysFS had negative value (-1), but there must be at least one NUMA node, so returning NUMA node zero\n",
      "2023-01-14 10:17:20.094939: I tensorflow/core/platform/cpu_feature_guard.cc:142] This TensorFlow binary is optimized with oneAPI Deep Neural Network Library (oneDNN) to use the following CPU instructions in performance-critical operations:  AVX2 AVX512F FMA\n",
      "To enable them in other operations, rebuild TensorFlow with the appropriate compiler flags.\n",
      "2023-01-14 10:17:20.101717: I tensorflow/stream_executor/cuda/cuda_gpu_executor.cc:937] successful NUMA node read from SysFS had negative value (-1), but there must be at least one NUMA node, so returning NUMA node zero\n",
      "2023-01-14 10:17:20.102421: I tensorflow/stream_executor/cuda/cuda_gpu_executor.cc:937] successful NUMA node read from SysFS had negative value (-1), but there must be at least one NUMA node, so returning NUMA node zero\n",
      "2023-01-14 10:17:20.103110: I tensorflow/stream_executor/cuda/cuda_gpu_executor.cc:937] successful NUMA node read from SysFS had negative value (-1), but there must be at least one NUMA node, so returning NUMA node zero\n",
      "2023-01-14 10:17:22.130021: I tensorflow/stream_executor/cuda/cuda_gpu_executor.cc:937] successful NUMA node read from SysFS had negative value (-1), but there must be at least one NUMA node, so returning NUMA node zero\n",
      "2023-01-14 10:17:22.130918: I tensorflow/stream_executor/cuda/cuda_gpu_executor.cc:937] successful NUMA node read from SysFS had negative value (-1), but there must be at least one NUMA node, so returning NUMA node zero\n",
      "2023-01-14 10:17:22.131610: I tensorflow/stream_executor/cuda/cuda_gpu_executor.cc:937] successful NUMA node read from SysFS had negative value (-1), but there must be at least one NUMA node, so returning NUMA node zero\n",
      "2023-01-14 10:17:22.132209: I tensorflow/core/common_runtime/gpu/gpu_device.cc:1510] Created device /job:localhost/replica:0/task:0/device:GPU:0 with 15401 MB memory:  -> device: 0, name: Tesla P100-PCIE-16GB, pci bus id: 0000:00:04.0, compute capability: 6.0\n"
     ]
    },
    {
     "name": "stdout",
     "output_type": "stream",
     "text": [
      "Downloading data from https://storage.googleapis.com/tensorflow/keras-applications/vgg19/vgg19_weights_tf_dim_ordering_tf_kernels_notop.h5\n",
      "80142336/80134624 [==============================] - 0s 0us/step\n",
      "80150528/80134624 [==============================] - 0s 0us/step\n"
     ]
    }
   ],
   "source": [
    "vgg = VGG19(weights=\"imagenet\", include_top=False, input_tensor=Input(shape=(224, 224, 3)))\n",
    "vgg.trainable = False"
   ]
  },
  {
   "cell_type": "code",
   "execution_count": 13,
   "id": "8bb2b6e7",
   "metadata": {
    "execution": {
     "iopub.execute_input": "2023-01-14T10:17:23.384054Z",
     "iopub.status.busy": "2023-01-14T10:17:23.383457Z",
     "iopub.status.idle": "2023-01-14T10:17:23.391851Z",
     "shell.execute_reply": "2023-01-14T10:17:23.390988Z"
    },
    "papermill": {
     "duration": 0.016863,
     "end_time": "2023-01-14T10:17:23.393939",
     "exception": false,
     "start_time": "2023-01-14T10:17:23.377076",
     "status": "completed"
    },
    "tags": []
   },
   "outputs": [],
   "source": [
    "flatten = vgg.output\n",
    "flatten1 = Flatten()(flatten)"
   ]
  },
  {
   "cell_type": "code",
   "execution_count": 14,
   "id": "51e8af84",
   "metadata": {
    "execution": {
     "iopub.execute_input": "2023-01-14T10:17:23.405840Z",
     "iopub.status.busy": "2023-01-14T10:17:23.405074Z",
     "iopub.status.idle": "2023-01-14T10:17:23.435357Z",
     "shell.execute_reply": "2023-01-14T10:17:23.434539Z"
    },
    "papermill": {
     "duration": 0.038409,
     "end_time": "2023-01-14T10:17:23.437299",
     "exception": false,
     "start_time": "2023-01-14T10:17:23.398890",
     "status": "completed"
    },
    "tags": []
   },
   "outputs": [],
   "source": [
    "bboxHead = Dense(128, activation=\"relu\")(flatten1)\n",
    "bboxHead = Dense(64, activation=\"relu\")(bboxHead)\n",
    "bboxHead = Dense(32, activation=\"relu\")(bboxHead)\n",
    "bboxHead = Dense(4, activation=\"sigmoid\",\n",
    "\tname=\"bounding_box\")(bboxHead)"
   ]
  },
  {
   "cell_type": "code",
   "execution_count": 15,
   "id": "1bbea869",
   "metadata": {
    "execution": {
     "iopub.execute_input": "2023-01-14T10:17:23.449262Z",
     "iopub.status.busy": "2023-01-14T10:17:23.448763Z",
     "iopub.status.idle": "2023-01-14T10:17:23.477144Z",
     "shell.execute_reply": "2023-01-14T10:17:23.476305Z"
    },
    "papermill": {
     "duration": 0.036502,
     "end_time": "2023-01-14T10:17:23.479139",
     "exception": false,
     "start_time": "2023-01-14T10:17:23.442637",
     "status": "completed"
    },
    "tags": []
   },
   "outputs": [],
   "source": [
    "softmaxHead = Dense(512, activation=\"relu\")(flatten1)\n",
    "softmaxHead = Dropout(0.5)(softmaxHead)\n",
    "softmaxHead = Dense(512, activation=\"relu\")(softmaxHead)\n",
    "softmaxHead = Dropout(0.5)(softmaxHead)\n",
    "softmaxHead = Dense(len(lb.classes_), activation=\"softmax\",\n",
    "\tname=\"class_label\")(softmaxHead)"
   ]
  },
  {
   "cell_type": "code",
   "execution_count": 16,
   "id": "25b2b0d6",
   "metadata": {
    "execution": {
     "iopub.execute_input": "2023-01-14T10:17:23.491021Z",
     "iopub.status.busy": "2023-01-14T10:17:23.490496Z",
     "iopub.status.idle": "2023-01-14T10:17:23.498871Z",
     "shell.execute_reply": "2023-01-14T10:17:23.498048Z"
    },
    "papermill": {
     "duration": 0.016658,
     "end_time": "2023-01-14T10:17:23.501126",
     "exception": false,
     "start_time": "2023-01-14T10:17:23.484468",
     "status": "completed"
    },
    "tags": []
   },
   "outputs": [],
   "source": [
    "model = Model(inputs=vgg.input, outputs=(bboxHead, softmaxHead))"
   ]
  },
  {
   "cell_type": "code",
   "execution_count": 17,
   "id": "d1034459",
   "metadata": {
    "execution": {
     "iopub.execute_input": "2023-01-14T10:17:23.512571Z",
     "iopub.status.busy": "2023-01-14T10:17:23.512323Z",
     "iopub.status.idle": "2023-01-14T10:17:23.532317Z",
     "shell.execute_reply": "2023-01-14T10:17:23.531074Z"
    },
    "papermill": {
     "duration": 0.028089,
     "end_time": "2023-01-14T10:17:23.534440",
     "exception": false,
     "start_time": "2023-01-14T10:17:23.506351",
     "status": "completed"
    },
    "tags": []
   },
   "outputs": [
    {
     "name": "stdout",
     "output_type": "stream",
     "text": [
      "Model: \"model\"\n",
      "__________________________________________________________________________________________________\n",
      "Layer (type)                    Output Shape         Param #     Connected to                     \n",
      "==================================================================================================\n",
      "input_1 (InputLayer)            [(None, 224, 224, 3) 0                                            \n",
      "__________________________________________________________________________________________________\n",
      "block1_conv1 (Conv2D)           (None, 224, 224, 64) 1792        input_1[0][0]                    \n",
      "__________________________________________________________________________________________________\n",
      "block1_conv2 (Conv2D)           (None, 224, 224, 64) 36928       block1_conv1[0][0]               \n",
      "__________________________________________________________________________________________________\n",
      "block1_pool (MaxPooling2D)      (None, 112, 112, 64) 0           block1_conv2[0][0]               \n",
      "__________________________________________________________________________________________________\n",
      "block2_conv1 (Conv2D)           (None, 112, 112, 128 73856       block1_pool[0][0]                \n",
      "__________________________________________________________________________________________________\n",
      "block2_conv2 (Conv2D)           (None, 112, 112, 128 147584      block2_conv1[0][0]               \n",
      "__________________________________________________________________________________________________\n",
      "block2_pool (MaxPooling2D)      (None, 56, 56, 128)  0           block2_conv2[0][0]               \n",
      "__________________________________________________________________________________________________\n",
      "block3_conv1 (Conv2D)           (None, 56, 56, 256)  295168      block2_pool[0][0]                \n",
      "__________________________________________________________________________________________________\n",
      "block3_conv2 (Conv2D)           (None, 56, 56, 256)  590080      block3_conv1[0][0]               \n",
      "__________________________________________________________________________________________________\n",
      "block3_conv3 (Conv2D)           (None, 56, 56, 256)  590080      block3_conv2[0][0]               \n",
      "__________________________________________________________________________________________________\n",
      "block3_conv4 (Conv2D)           (None, 56, 56, 256)  590080      block3_conv3[0][0]               \n",
      "__________________________________________________________________________________________________\n",
      "block3_pool (MaxPooling2D)      (None, 28, 28, 256)  0           block3_conv4[0][0]               \n",
      "__________________________________________________________________________________________________\n",
      "block4_conv1 (Conv2D)           (None, 28, 28, 512)  1180160     block3_pool[0][0]                \n",
      "__________________________________________________________________________________________________\n",
      "block4_conv2 (Conv2D)           (None, 28, 28, 512)  2359808     block4_conv1[0][0]               \n",
      "__________________________________________________________________________________________________\n",
      "block4_conv3 (Conv2D)           (None, 28, 28, 512)  2359808     block4_conv2[0][0]               \n",
      "__________________________________________________________________________________________________\n",
      "block4_conv4 (Conv2D)           (None, 28, 28, 512)  2359808     block4_conv3[0][0]               \n",
      "__________________________________________________________________________________________________\n",
      "block4_pool (MaxPooling2D)      (None, 14, 14, 512)  0           block4_conv4[0][0]               \n",
      "__________________________________________________________________________________________________\n",
      "block5_conv1 (Conv2D)           (None, 14, 14, 512)  2359808     block4_pool[0][0]                \n",
      "__________________________________________________________________________________________________\n",
      "block5_conv2 (Conv2D)           (None, 14, 14, 512)  2359808     block5_conv1[0][0]               \n",
      "__________________________________________________________________________________________________\n",
      "block5_conv3 (Conv2D)           (None, 14, 14, 512)  2359808     block5_conv2[0][0]               \n",
      "__________________________________________________________________________________________________\n",
      "block5_conv4 (Conv2D)           (None, 14, 14, 512)  2359808     block5_conv3[0][0]               \n",
      "__________________________________________________________________________________________________\n",
      "block5_pool (MaxPooling2D)      (None, 7, 7, 512)    0           block5_conv4[0][0]               \n",
      "__________________________________________________________________________________________________\n",
      "flatten (Flatten)               (None, 25088)        0           block5_pool[0][0]                \n",
      "__________________________________________________________________________________________________\n",
      "dense_3 (Dense)                 (None, 512)          12845568    flatten[0][0]                    \n",
      "__________________________________________________________________________________________________\n",
      "dense (Dense)                   (None, 128)          3211392     flatten[0][0]                    \n",
      "__________________________________________________________________________________________________\n",
      "dropout (Dropout)               (None, 512)          0           dense_3[0][0]                    \n",
      "__________________________________________________________________________________________________\n",
      "dense_1 (Dense)                 (None, 64)           8256        dense[0][0]                      \n",
      "__________________________________________________________________________________________________\n",
      "dense_4 (Dense)                 (None, 512)          262656      dropout[0][0]                    \n",
      "__________________________________________________________________________________________________\n",
      "dense_2 (Dense)                 (None, 32)           2080        dense_1[0][0]                    \n",
      "__________________________________________________________________________________________________\n",
      "dropout_1 (Dropout)             (None, 512)          0           dense_4[0][0]                    \n",
      "__________________________________________________________________________________________________\n",
      "bounding_box (Dense)            (None, 4)            132         dense_2[0][0]                    \n",
      "__________________________________________________________________________________________________\n",
      "class_label (Dense)             (None, 10)           5130        dropout_1[0][0]                  \n",
      "==================================================================================================\n",
      "Total params: 36,359,598\n",
      "Trainable params: 16,335,214\n",
      "Non-trainable params: 20,024,384\n",
      "__________________________________________________________________________________________________\n",
      "None\n"
     ]
    },
    {
     "name": "stderr",
     "output_type": "stream",
     "text": [
      "/opt/conda/lib/python3.7/site-packages/keras/optimizer_v2/optimizer_v2.py:356: UserWarning: The `lr` argument is deprecated, use `learning_rate` instead.\n",
      "  \"The `lr` argument is deprecated, use `learning_rate` instead.\")\n"
     ]
    }
   ],
   "source": [
    "losses = {\n",
    "\t\"class_label\": \"categorical_crossentropy\",\n",
    "\t\"bounding_box\": \"mean_squared_error\",\n",
    "}\n",
    "lossWeights = {\n",
    "\t\"class_label\": 1.0,\n",
    "\t\"bounding_box\": 1.0\n",
    "}\n",
    "opt = Adam(lr=0.0001)\n",
    "model.compile(loss=losses, optimizer=opt, metrics=[\"accuracy\"], loss_weights=lossWeights)\n",
    "print(model.summary())"
   ]
  },
  {
   "cell_type": "code",
   "execution_count": 18,
   "id": "de5dcfae",
   "metadata": {
    "execution": {
     "iopub.execute_input": "2023-01-14T10:17:23.546488Z",
     "iopub.status.busy": "2023-01-14T10:17:23.546238Z",
     "iopub.status.idle": "2023-01-14T10:17:23.550247Z",
     "shell.execute_reply": "2023-01-14T10:17:23.549364Z"
    },
    "papermill": {
     "duration": 0.012139,
     "end_time": "2023-01-14T10:17:23.552114",
     "exception": false,
     "start_time": "2023-01-14T10:17:23.539975",
     "status": "completed"
    },
    "tags": []
   },
   "outputs": [],
   "source": [
    "trainTargets = {\n",
    "\t\"class_label\": trainLabels,\n",
    "\t\"bounding_box\": trainBBoxes\n",
    "}\n",
    "testTargets = {\n",
    "\t\"class_label\": testLabels,\n",
    "\t\"bounding_box\": testBBoxes\n",
    "}"
   ]
  },
  {
   "cell_type": "code",
   "execution_count": 19,
   "id": "a119ea13",
   "metadata": {
    "execution": {
     "iopub.execute_input": "2023-01-14T10:17:23.564647Z",
     "iopub.status.busy": "2023-01-14T10:17:23.564397Z",
     "iopub.status.idle": "2023-01-14T10:41:52.304729Z",
     "shell.execute_reply": "2023-01-14T10:41:52.303738Z"
    },
    "papermill": {
     "duration": 1468.749832,
     "end_time": "2023-01-14T10:41:52.307664",
     "exception": false,
     "start_time": "2023-01-14T10:17:23.557832",
     "status": "completed"
    },
    "tags": []
   },
   "outputs": [
    {
     "name": "stderr",
     "output_type": "stream",
     "text": [
      "2023-01-14 10:17:23.569415: W tensorflow/core/framework/cpu_allocator_impl.cc:80] Allocation of 2800422912 exceeds 10% of free system memory.\n",
      "2023-01-14 10:17:26.835223: W tensorflow/core/framework/cpu_allocator_impl.cc:80] Allocation of 2800422912 exceeds 10% of free system memory.\n",
      "2023-01-14 10:17:29.147914: I tensorflow/compiler/mlir/mlir_graph_optimization_pass.cc:185] None of the MLIR Optimization Passes are enabled (registered 2)\n"
     ]
    },
    {
     "name": "stdout",
     "output_type": "stream",
     "text": [
      "Epoch 1/100\n"
     ]
    },
    {
     "name": "stderr",
     "output_type": "stream",
     "text": [
      "2023-01-14 10:17:31.362706: I tensorflow/stream_executor/cuda/cuda_dnn.cc:369] Loaded cuDNN version 8005\n"
     ]
    },
    {
     "name": "stdout",
     "output_type": "stream",
     "text": [
      "146/146 [==============================] - ETA: 0s - loss: 1.9881 - bounding_box_loss: 0.0149 - class_label_loss: 1.9732 - bounding_box_accuracy: 0.5364 - class_label_accuracy: 0.3053"
     ]
    },
    {
     "name": "stderr",
     "output_type": "stream",
     "text": [
      "2023-01-14 10:17:52.528824: W tensorflow/core/framework/cpu_allocator_impl.cc:80] Allocation of 700256256 exceeds 10% of free system memory.\n",
      "2023-01-14 10:17:53.779946: W tensorflow/core/framework/cpu_allocator_impl.cc:80] Allocation of 700256256 exceeds 10% of free system memory.\n"
     ]
    },
    {
     "name": "stdout",
     "output_type": "stream",
     "text": [
      "146/146 [==============================] - 28s 121ms/step - loss: 1.9881 - bounding_box_loss: 0.0149 - class_label_loss: 1.9732 - bounding_box_accuracy: 0.5364 - class_label_accuracy: 0.3053 - val_loss: 1.6195 - val_bounding_box_loss: 0.0134 - val_class_label_loss: 1.6061 - val_bounding_box_accuracy: 0.5365 - val_class_label_accuracy: 0.4807\n",
      "Epoch 2/100\n",
      "146/146 [==============================] - 14s 98ms/step - loss: 1.6454 - bounding_box_loss: 0.0117 - class_label_loss: 1.6337 - bounding_box_accuracy: 0.6020 - class_label_accuracy: 0.4298 - val_loss: 1.4727 - val_bounding_box_loss: 0.0116 - val_class_label_loss: 1.4611 - val_bounding_box_accuracy: 0.5933 - val_class_label_accuracy: 0.5107\n",
      "Epoch 3/100\n",
      "146/146 [==============================] - 14s 99ms/step - loss: 1.4847 - bounding_box_loss: 0.0107 - class_label_loss: 1.4740 - bounding_box_accuracy: 0.6381 - class_label_accuracy: 0.4874 - val_loss: 1.3946 - val_bounding_box_loss: 0.0117 - val_class_label_loss: 1.3829 - val_bounding_box_accuracy: 0.6122 - val_class_label_accuracy: 0.5434\n",
      "Epoch 4/100\n",
      "146/146 [==============================] - 14s 98ms/step - loss: 1.3874 - bounding_box_loss: 0.0101 - class_label_loss: 1.3772 - bounding_box_accuracy: 0.6545 - class_label_accuracy: 0.5255 - val_loss: 1.3139 - val_bounding_box_loss: 0.0113 - val_class_label_loss: 1.3026 - val_bounding_box_accuracy: 0.6122 - val_class_label_accuracy: 0.5546\n",
      "Epoch 5/100\n",
      "146/146 [==============================] - 14s 98ms/step - loss: 1.3147 - bounding_box_loss: 0.0096 - class_label_loss: 1.3051 - bounding_box_accuracy: 0.6637 - class_label_accuracy: 0.5625 - val_loss: 1.2631 - val_bounding_box_loss: 0.0118 - val_class_label_loss: 1.2513 - val_bounding_box_accuracy: 0.5744 - val_class_label_accuracy: 0.5873\n",
      "Epoch 6/100\n",
      "146/146 [==============================] - 14s 98ms/step - loss: 1.2114 - bounding_box_loss: 0.0093 - class_label_loss: 1.2021 - bounding_box_accuracy: 0.6678 - class_label_accuracy: 0.5880 - val_loss: 1.1951 - val_bounding_box_loss: 0.0116 - val_class_label_loss: 1.1834 - val_bounding_box_accuracy: 0.6053 - val_class_label_accuracy: 0.6122\n",
      "Epoch 7/100\n",
      "146/146 [==============================] - 14s 98ms/step - loss: 1.1462 - bounding_box_loss: 0.0087 - class_label_loss: 1.1375 - bounding_box_accuracy: 0.6897 - class_label_accuracy: 0.6190 - val_loss: 1.1485 - val_bounding_box_loss: 0.0114 - val_class_label_loss: 1.1372 - val_bounding_box_accuracy: 0.6285 - val_class_label_accuracy: 0.6303\n",
      "Epoch 8/100\n",
      "146/146 [==============================] - 14s 99ms/step - loss: 1.0884 - bounding_box_loss: 0.0084 - class_label_loss: 1.0800 - bounding_box_accuracy: 0.6921 - class_label_accuracy: 0.6338 - val_loss: 1.1570 - val_bounding_box_loss: 0.0116 - val_class_label_loss: 1.1454 - val_bounding_box_accuracy: 0.6389 - val_class_label_accuracy: 0.6346\n",
      "Epoch 9/100\n",
      "146/146 [==============================] - 14s 98ms/step - loss: 1.0507 - bounding_box_loss: 0.0079 - class_label_loss: 1.0428 - bounding_box_accuracy: 0.7117 - class_label_accuracy: 0.6513 - val_loss: 1.1099 - val_bounding_box_loss: 0.0113 - val_class_label_loss: 1.0985 - val_bounding_box_accuracy: 0.6380 - val_class_label_accuracy: 0.6483\n",
      "Epoch 10/100\n",
      "146/146 [==============================] - 14s 98ms/step - loss: 0.9999 - bounding_box_loss: 0.0077 - class_label_loss: 0.9922 - bounding_box_accuracy: 0.7162 - class_label_accuracy: 0.6704 - val_loss: 1.0833 - val_bounding_box_loss: 0.0122 - val_class_label_loss: 1.0711 - val_bounding_box_accuracy: 0.6174 - val_class_label_accuracy: 0.6586\n",
      "Epoch 11/100\n",
      "146/146 [==============================] - 14s 98ms/step - loss: 0.9493 - bounding_box_loss: 0.0078 - class_label_loss: 0.9415 - bounding_box_accuracy: 0.7093 - class_label_accuracy: 0.6895 - val_loss: 1.0688 - val_bounding_box_loss: 0.0121 - val_class_label_loss: 1.0567 - val_bounding_box_accuracy: 0.6131 - val_class_label_accuracy: 0.6647\n",
      "Epoch 12/100\n",
      "146/146 [==============================] - 14s 98ms/step - loss: 0.8994 - bounding_box_loss: 0.0073 - class_label_loss: 0.8920 - bounding_box_accuracy: 0.7198 - class_label_accuracy: 0.7080 - val_loss: 1.0561 - val_bounding_box_loss: 0.0121 - val_class_label_loss: 1.0440 - val_bounding_box_accuracy: 0.6122 - val_class_label_accuracy: 0.6612\n",
      "Epoch 13/100\n",
      "146/146 [==============================] - 14s 98ms/step - loss: 0.8595 - bounding_box_loss: 0.0071 - class_label_loss: 0.8523 - bounding_box_accuracy: 0.7379 - class_label_accuracy: 0.7177 - val_loss: 1.0361 - val_bounding_box_loss: 0.0119 - val_class_label_loss: 1.0242 - val_bounding_box_accuracy: 0.6234 - val_class_label_accuracy: 0.6690\n",
      "Epoch 14/100\n",
      "146/146 [==============================] - 14s 98ms/step - loss: 0.8161 - bounding_box_loss: 0.0070 - class_label_loss: 0.8091 - bounding_box_accuracy: 0.7297 - class_label_accuracy: 0.7263 - val_loss: 1.0135 - val_bounding_box_loss: 0.0119 - val_class_label_loss: 1.0016 - val_bounding_box_accuracy: 0.6346 - val_class_label_accuracy: 0.6724\n",
      "Epoch 15/100\n",
      "146/146 [==============================] - 14s 97ms/step - loss: 0.8031 - bounding_box_loss: 0.0069 - class_label_loss: 0.7962 - bounding_box_accuracy: 0.7388 - class_label_accuracy: 0.7269 - val_loss: 1.0509 - val_bounding_box_loss: 0.0121 - val_class_label_loss: 1.0388 - val_bounding_box_accuracy: 0.6277 - val_class_label_accuracy: 0.6801\n",
      "Epoch 16/100\n",
      "146/146 [==============================] - 14s 98ms/step - loss: 0.7497 - bounding_box_loss: 0.0066 - class_label_loss: 0.7431 - bounding_box_accuracy: 0.7478 - class_label_accuracy: 0.7506 - val_loss: 1.0098 - val_bounding_box_loss: 0.0121 - val_class_label_loss: 0.9977 - val_bounding_box_accuracy: 0.6337 - val_class_label_accuracy: 0.6819\n",
      "Epoch 17/100\n",
      "146/146 [==============================] - 14s 98ms/step - loss: 0.7093 - bounding_box_loss: 0.0065 - class_label_loss: 0.7027 - bounding_box_accuracy: 0.7532 - class_label_accuracy: 0.7598 - val_loss: 1.0325 - val_bounding_box_loss: 0.0129 - val_class_label_loss: 1.0196 - val_bounding_box_accuracy: 0.6303 - val_class_label_accuracy: 0.6913\n",
      "Epoch 18/100\n",
      "146/146 [==============================] - 14s 98ms/step - loss: 0.7255 - bounding_box_loss: 0.0067 - class_label_loss: 0.7188 - bounding_box_accuracy: 0.7366 - class_label_accuracy: 0.7611 - val_loss: 1.0200 - val_bounding_box_loss: 0.0124 - val_class_label_loss: 1.0076 - val_bounding_box_accuracy: 0.6285 - val_class_label_accuracy: 0.6844\n",
      "Epoch 19/100\n",
      "146/146 [==============================] - 14s 98ms/step - loss: 0.6463 - bounding_box_loss: 0.0064 - class_label_loss: 0.6399 - bounding_box_accuracy: 0.7480 - class_label_accuracy: 0.7833 - val_loss: 1.0257 - val_bounding_box_loss: 0.0120 - val_class_label_loss: 1.0137 - val_bounding_box_accuracy: 0.6397 - val_class_label_accuracy: 0.6956\n",
      "Epoch 20/100\n",
      "146/146 [==============================] - 14s 98ms/step - loss: 0.6588 - bounding_box_loss: 0.0065 - class_label_loss: 0.6523 - bounding_box_accuracy: 0.7493 - class_label_accuracy: 0.7770 - val_loss: 1.0261 - val_bounding_box_loss: 0.0127 - val_class_label_loss: 1.0134 - val_bounding_box_accuracy: 0.5959 - val_class_label_accuracy: 0.6879\n",
      "Epoch 21/100\n",
      "146/146 [==============================] - 14s 98ms/step - loss: 0.6234 - bounding_box_loss: 0.0062 - class_label_loss: 0.6172 - bounding_box_accuracy: 0.7551 - class_label_accuracy: 0.7917 - val_loss: 1.0339 - val_bounding_box_loss: 0.0124 - val_class_label_loss: 1.0215 - val_bounding_box_accuracy: 0.6328 - val_class_label_accuracy: 0.6870\n",
      "Epoch 22/100\n",
      "146/146 [==============================] - 14s 97ms/step - loss: 0.6191 - bounding_box_loss: 0.0063 - class_label_loss: 0.6128 - bounding_box_accuracy: 0.7493 - class_label_accuracy: 0.7914 - val_loss: 1.0096 - val_bounding_box_loss: 0.0134 - val_class_label_loss: 0.9962 - val_bounding_box_accuracy: 0.5907 - val_class_label_accuracy: 0.7008\n",
      "Epoch 23/100\n",
      "146/146 [==============================] - 14s 98ms/step - loss: 0.5731 - bounding_box_loss: 0.0061 - class_label_loss: 0.5670 - bounding_box_accuracy: 0.7616 - class_label_accuracy: 0.8082 - val_loss: 1.0002 - val_bounding_box_loss: 0.0124 - val_class_label_loss: 0.9877 - val_bounding_box_accuracy: 0.6311 - val_class_label_accuracy: 0.7051\n",
      "Epoch 24/100\n",
      "146/146 [==============================] - 14s 98ms/step - loss: 0.5690 - bounding_box_loss: 0.0060 - class_label_loss: 0.5630 - bounding_box_accuracy: 0.7596 - class_label_accuracy: 0.8089 - val_loss: 1.0338 - val_bounding_box_loss: 0.0125 - val_class_label_loss: 1.0213 - val_bounding_box_accuracy: 0.6354 - val_class_label_accuracy: 0.6982\n",
      "Epoch 25/100\n",
      "146/146 [==============================] - 14s 99ms/step - loss: 0.5498 - bounding_box_loss: 0.0059 - class_label_loss: 0.5439 - bounding_box_accuracy: 0.7669 - class_label_accuracy: 0.8110 - val_loss: 1.0423 - val_bounding_box_loss: 0.0123 - val_class_label_loss: 1.0299 - val_bounding_box_accuracy: 0.6217 - val_class_label_accuracy: 0.7016\n",
      "Epoch 26/100\n",
      "146/146 [==============================] - 14s 98ms/step - loss: 0.5518 - bounding_box_loss: 0.0059 - class_label_loss: 0.5459 - bounding_box_accuracy: 0.7637 - class_label_accuracy: 0.8125 - val_loss: 1.0829 - val_bounding_box_loss: 0.0127 - val_class_label_loss: 1.0702 - val_bounding_box_accuracy: 0.6165 - val_class_label_accuracy: 0.6913\n",
      "Epoch 27/100\n",
      "146/146 [==============================] - 14s 99ms/step - loss: 0.5387 - bounding_box_loss: 0.0058 - class_label_loss: 0.5329 - bounding_box_accuracy: 0.7738 - class_label_accuracy: 0.8127 - val_loss: 1.0124 - val_bounding_box_loss: 0.0127 - val_class_label_loss: 0.9997 - val_bounding_box_accuracy: 0.6328 - val_class_label_accuracy: 0.7085\n",
      "Epoch 28/100\n",
      "146/146 [==============================] - 14s 98ms/step - loss: 0.5290 - bounding_box_loss: 0.0057 - class_label_loss: 0.5232 - bounding_box_accuracy: 0.7734 - class_label_accuracy: 0.8198 - val_loss: 1.0338 - val_bounding_box_loss: 0.0128 - val_class_label_loss: 1.0210 - val_bounding_box_accuracy: 0.6260 - val_class_label_accuracy: 0.7094\n",
      "Epoch 29/100\n",
      "146/146 [==============================] - 14s 98ms/step - loss: 0.5048 - bounding_box_loss: 0.0056 - class_label_loss: 0.4992 - bounding_box_accuracy: 0.7837 - class_label_accuracy: 0.8278 - val_loss: 1.0940 - val_bounding_box_loss: 0.0127 - val_class_label_loss: 1.0813 - val_bounding_box_accuracy: 0.6053 - val_class_label_accuracy: 0.7068\n",
      "Epoch 30/100\n",
      "146/146 [==============================] - 14s 98ms/step - loss: 0.4907 - bounding_box_loss: 0.0058 - class_label_loss: 0.4849 - bounding_box_accuracy: 0.7656 - class_label_accuracy: 0.8332 - val_loss: 1.1003 - val_bounding_box_loss: 0.0128 - val_class_label_loss: 1.0875 - val_bounding_box_accuracy: 0.5976 - val_class_label_accuracy: 0.7008\n",
      "Epoch 31/100\n",
      "146/146 [==============================] - 14s 98ms/step - loss: 0.4824 - bounding_box_loss: 0.0058 - class_label_loss: 0.4766 - bounding_box_accuracy: 0.7736 - class_label_accuracy: 0.8375 - val_loss: 1.0811 - val_bounding_box_loss: 0.0129 - val_class_label_loss: 1.0682 - val_bounding_box_accuracy: 0.5959 - val_class_label_accuracy: 0.7077\n",
      "Epoch 32/100\n",
      "146/146 [==============================] - 14s 99ms/step - loss: 0.4757 - bounding_box_loss: 0.0058 - class_label_loss: 0.4699 - bounding_box_accuracy: 0.7794 - class_label_accuracy: 0.8301 - val_loss: 1.1166 - val_bounding_box_loss: 0.0126 - val_class_label_loss: 1.1041 - val_bounding_box_accuracy: 0.6251 - val_class_label_accuracy: 0.7094\n",
      "Epoch 33/100\n",
      "146/146 [==============================] - 14s 98ms/step - loss: 0.4722 - bounding_box_loss: 0.0056 - class_label_loss: 0.4666 - bounding_box_accuracy: 0.7751 - class_label_accuracy: 0.8394 - val_loss: 1.0578 - val_bounding_box_loss: 0.0132 - val_class_label_loss: 1.0446 - val_bounding_box_accuracy: 0.5881 - val_class_label_accuracy: 0.7077\n",
      "Epoch 34/100\n",
      "146/146 [==============================] - 14s 98ms/step - loss: 0.4807 - bounding_box_loss: 0.0056 - class_label_loss: 0.4751 - bounding_box_accuracy: 0.7790 - class_label_accuracy: 0.8273 - val_loss: 1.0920 - val_bounding_box_loss: 0.0131 - val_class_label_loss: 1.0789 - val_bounding_box_accuracy: 0.6389 - val_class_label_accuracy: 0.6999\n",
      "Epoch 35/100\n",
      "146/146 [==============================] - 14s 97ms/step - loss: 0.4539 - bounding_box_loss: 0.0056 - class_label_loss: 0.4484 - bounding_box_accuracy: 0.7811 - class_label_accuracy: 0.8422 - val_loss: 1.0770 - val_bounding_box_loss: 0.0124 - val_class_label_loss: 1.0646 - val_bounding_box_accuracy: 0.6251 - val_class_label_accuracy: 0.7068\n",
      "Epoch 36/100\n",
      "146/146 [==============================] - 14s 98ms/step - loss: 0.4302 - bounding_box_loss: 0.0054 - class_label_loss: 0.4248 - bounding_box_accuracy: 0.7792 - class_label_accuracy: 0.8501 - val_loss: 1.1206 - val_bounding_box_loss: 0.0131 - val_class_label_loss: 1.1075 - val_bounding_box_accuracy: 0.6260 - val_class_label_accuracy: 0.7085\n",
      "Epoch 37/100\n",
      "146/146 [==============================] - 14s 98ms/step - loss: 0.4510 - bounding_box_loss: 0.0055 - class_label_loss: 0.4455 - bounding_box_accuracy: 0.7702 - class_label_accuracy: 0.8424 - val_loss: 1.1141 - val_bounding_box_loss: 0.0131 - val_class_label_loss: 1.1010 - val_bounding_box_accuracy: 0.5899 - val_class_label_accuracy: 0.7025\n",
      "Epoch 38/100\n",
      "146/146 [==============================] - 14s 98ms/step - loss: 0.4480 - bounding_box_loss: 0.0055 - class_label_loss: 0.4426 - bounding_box_accuracy: 0.7785 - class_label_accuracy: 0.8415 - val_loss: 1.1208 - val_bounding_box_loss: 0.0128 - val_class_label_loss: 1.1080 - val_bounding_box_accuracy: 0.6019 - val_class_label_accuracy: 0.7051\n",
      "Epoch 39/100\n",
      "146/146 [==============================] - 14s 98ms/step - loss: 0.4073 - bounding_box_loss: 0.0055 - class_label_loss: 0.4018 - bounding_box_accuracy: 0.7824 - class_label_accuracy: 0.8590 - val_loss: 1.1006 - val_bounding_box_loss: 0.0127 - val_class_label_loss: 1.0880 - val_bounding_box_accuracy: 0.5924 - val_class_label_accuracy: 0.7077\n",
      "Epoch 40/100\n",
      "146/146 [==============================] - 14s 98ms/step - loss: 0.4291 - bounding_box_loss: 0.0054 - class_label_loss: 0.4237 - bounding_box_accuracy: 0.7811 - class_label_accuracy: 0.8542 - val_loss: 1.2495 - val_bounding_box_loss: 0.0128 - val_class_label_loss: 1.2367 - val_bounding_box_accuracy: 0.6260 - val_class_label_accuracy: 0.7102\n",
      "Epoch 41/100\n",
      "146/146 [==============================] - 14s 97ms/step - loss: 0.4098 - bounding_box_loss: 0.0054 - class_label_loss: 0.4044 - bounding_box_accuracy: 0.7822 - class_label_accuracy: 0.8521 - val_loss: 1.1475 - val_bounding_box_loss: 0.0130 - val_class_label_loss: 1.1345 - val_bounding_box_accuracy: 0.6105 - val_class_label_accuracy: 0.7077\n",
      "Epoch 42/100\n",
      "146/146 [==============================] - 14s 97ms/step - loss: 0.3978 - bounding_box_loss: 0.0053 - class_label_loss: 0.3925 - bounding_box_accuracy: 0.7861 - class_label_accuracy: 0.8577 - val_loss: 1.2356 - val_bounding_box_loss: 0.0131 - val_class_label_loss: 1.2225 - val_bounding_box_accuracy: 0.6199 - val_class_label_accuracy: 0.7206\n",
      "Epoch 43/100\n",
      "146/146 [==============================] - 14s 98ms/step - loss: 0.4116 - bounding_box_loss: 0.0054 - class_label_loss: 0.4063 - bounding_box_accuracy: 0.7792 - class_label_accuracy: 0.8549 - val_loss: 1.2044 - val_bounding_box_loss: 0.0133 - val_class_label_loss: 1.1911 - val_bounding_box_accuracy: 0.5804 - val_class_label_accuracy: 0.7034\n",
      "Epoch 44/100\n",
      "146/146 [==============================] - 14s 98ms/step - loss: 0.4132 - bounding_box_loss: 0.0053 - class_label_loss: 0.4079 - bounding_box_accuracy: 0.7734 - class_label_accuracy: 0.8523 - val_loss: 1.0619 - val_bounding_box_loss: 0.0141 - val_class_label_loss: 1.0479 - val_bounding_box_accuracy: 0.5580 - val_class_label_accuracy: 0.7120\n",
      "Epoch 45/100\n",
      "146/146 [==============================] - 14s 98ms/step - loss: 0.3887 - bounding_box_loss: 0.0055 - class_label_loss: 0.3832 - bounding_box_accuracy: 0.7805 - class_label_accuracy: 0.8570 - val_loss: 1.1507 - val_bounding_box_loss: 0.0134 - val_class_label_loss: 1.1373 - val_bounding_box_accuracy: 0.5907 - val_class_label_accuracy: 0.7128\n",
      "Epoch 46/100\n",
      "146/146 [==============================] - 14s 97ms/step - loss: 0.3941 - bounding_box_loss: 0.0056 - class_label_loss: 0.3885 - bounding_box_accuracy: 0.7719 - class_label_accuracy: 0.8581 - val_loss: 1.2320 - val_bounding_box_loss: 0.0130 - val_class_label_loss: 1.2190 - val_bounding_box_accuracy: 0.5950 - val_class_label_accuracy: 0.7068\n",
      "Epoch 47/100\n",
      "146/146 [==============================] - 14s 98ms/step - loss: 0.4011 - bounding_box_loss: 0.0052 - class_label_loss: 0.3959 - bounding_box_accuracy: 0.7818 - class_label_accuracy: 0.8562 - val_loss: 1.1587 - val_bounding_box_loss: 0.0129 - val_class_label_loss: 1.1458 - val_bounding_box_accuracy: 0.6174 - val_class_label_accuracy: 0.7077\n",
      "Epoch 48/100\n",
      "146/146 [==============================] - 14s 97ms/step - loss: 0.3845 - bounding_box_loss: 0.0053 - class_label_loss: 0.3792 - bounding_box_accuracy: 0.7859 - class_label_accuracy: 0.8583 - val_loss: 1.2520 - val_bounding_box_loss: 0.0134 - val_class_label_loss: 1.2386 - val_bounding_box_accuracy: 0.5993 - val_class_label_accuracy: 0.6965\n",
      "Epoch 49/100\n",
      "146/146 [==============================] - 14s 98ms/step - loss: 0.3770 - bounding_box_loss: 0.0053 - class_label_loss: 0.3717 - bounding_box_accuracy: 0.7811 - class_label_accuracy: 0.8620 - val_loss: 1.2125 - val_bounding_box_loss: 0.0131 - val_class_label_loss: 1.1994 - val_bounding_box_accuracy: 0.6088 - val_class_label_accuracy: 0.7102\n",
      "Epoch 50/100\n",
      "146/146 [==============================] - 14s 97ms/step - loss: 0.3756 - bounding_box_loss: 0.0053 - class_label_loss: 0.3704 - bounding_box_accuracy: 0.7871 - class_label_accuracy: 0.8622 - val_loss: 1.1857 - val_bounding_box_loss: 0.0134 - val_class_label_loss: 1.1724 - val_bounding_box_accuracy: 0.6174 - val_class_label_accuracy: 0.7137\n",
      "Epoch 51/100\n",
      "146/146 [==============================] - 14s 98ms/step - loss: 0.3890 - bounding_box_loss: 0.0054 - class_label_loss: 0.3837 - bounding_box_accuracy: 0.7841 - class_label_accuracy: 0.8540 - val_loss: 1.2145 - val_bounding_box_loss: 0.0132 - val_class_label_loss: 1.2013 - val_bounding_box_accuracy: 0.6010 - val_class_label_accuracy: 0.7008\n",
      "Epoch 52/100\n",
      "146/146 [==============================] - 14s 97ms/step - loss: 0.3789 - bounding_box_loss: 0.0053 - class_label_loss: 0.3736 - bounding_box_accuracy: 0.7884 - class_label_accuracy: 0.8583 - val_loss: 1.3398 - val_bounding_box_loss: 0.0133 - val_class_label_loss: 1.3265 - val_bounding_box_accuracy: 0.6096 - val_class_label_accuracy: 0.7051\n",
      "Epoch 53/100\n",
      "146/146 [==============================] - 14s 97ms/step - loss: 0.3710 - bounding_box_loss: 0.0052 - class_label_loss: 0.3658 - bounding_box_accuracy: 0.7848 - class_label_accuracy: 0.8626 - val_loss: 1.2359 - val_bounding_box_loss: 0.0132 - val_class_label_loss: 1.2226 - val_bounding_box_accuracy: 0.6199 - val_class_label_accuracy: 0.7102\n",
      "Epoch 54/100\n",
      "146/146 [==============================] - 14s 98ms/step - loss: 0.3417 - bounding_box_loss: 0.0052 - class_label_loss: 0.3365 - bounding_box_accuracy: 0.7856 - class_label_accuracy: 0.8708 - val_loss: 1.2088 - val_bounding_box_loss: 0.0133 - val_class_label_loss: 1.1954 - val_bounding_box_accuracy: 0.5856 - val_class_label_accuracy: 0.7128\n",
      "Epoch 55/100\n",
      "146/146 [==============================] - 14s 97ms/step - loss: 0.3628 - bounding_box_loss: 0.0053 - class_label_loss: 0.3574 - bounding_box_accuracy: 0.7826 - class_label_accuracy: 0.8656 - val_loss: 1.3420 - val_bounding_box_loss: 0.0132 - val_class_label_loss: 1.3288 - val_bounding_box_accuracy: 0.5933 - val_class_label_accuracy: 0.7008\n",
      "Epoch 56/100\n",
      "146/146 [==============================] - 14s 98ms/step - loss: 0.3833 - bounding_box_loss: 0.0053 - class_label_loss: 0.3780 - bounding_box_accuracy: 0.7850 - class_label_accuracy: 0.8523 - val_loss: 1.1328 - val_bounding_box_loss: 0.0133 - val_class_label_loss: 1.1195 - val_bounding_box_accuracy: 0.6242 - val_class_label_accuracy: 0.7171\n",
      "Epoch 57/100\n",
      "146/146 [==============================] - 14s 97ms/step - loss: 0.3601 - bounding_box_loss: 0.0051 - class_label_loss: 0.3550 - bounding_box_accuracy: 0.7886 - class_label_accuracy: 0.8693 - val_loss: 1.2056 - val_bounding_box_loss: 0.0132 - val_class_label_loss: 1.1924 - val_bounding_box_accuracy: 0.6113 - val_class_label_accuracy: 0.7163\n",
      "Epoch 58/100\n",
      "146/146 [==============================] - 14s 98ms/step - loss: 0.3700 - bounding_box_loss: 0.0051 - class_label_loss: 0.3649 - bounding_box_accuracy: 0.7886 - class_label_accuracy: 0.8652 - val_loss: 1.2077 - val_bounding_box_loss: 0.0133 - val_class_label_loss: 1.1945 - val_bounding_box_accuracy: 0.5967 - val_class_label_accuracy: 0.7163\n",
      "Epoch 59/100\n",
      "146/146 [==============================] - 14s 98ms/step - loss: 0.3685 - bounding_box_loss: 0.0053 - class_label_loss: 0.3632 - bounding_box_accuracy: 0.7773 - class_label_accuracy: 0.8628 - val_loss: 1.2474 - val_bounding_box_loss: 0.0132 - val_class_label_loss: 1.2342 - val_bounding_box_accuracy: 0.6053 - val_class_label_accuracy: 0.7154\n",
      "Epoch 60/100\n",
      "146/146 [==============================] - 14s 98ms/step - loss: 0.3480 - bounding_box_loss: 0.0051 - class_label_loss: 0.3429 - bounding_box_accuracy: 0.7919 - class_label_accuracy: 0.8708 - val_loss: 1.2648 - val_bounding_box_loss: 0.0131 - val_class_label_loss: 1.2516 - val_bounding_box_accuracy: 0.5899 - val_class_label_accuracy: 0.7094\n",
      "Epoch 61/100\n",
      "146/146 [==============================] - 14s 98ms/step - loss: 0.3478 - bounding_box_loss: 0.0052 - class_label_loss: 0.3426 - bounding_box_accuracy: 0.7871 - class_label_accuracy: 0.8716 - val_loss: 1.2472 - val_bounding_box_loss: 0.0134 - val_class_label_loss: 1.2338 - val_bounding_box_accuracy: 0.6199 - val_class_label_accuracy: 0.7120\n",
      "Epoch 62/100\n",
      "146/146 [==============================] - 14s 98ms/step - loss: 0.3496 - bounding_box_loss: 0.0052 - class_label_loss: 0.3445 - bounding_box_accuracy: 0.7871 - class_label_accuracy: 0.8645 - val_loss: 1.2884 - val_bounding_box_loss: 0.0133 - val_class_label_loss: 1.2751 - val_bounding_box_accuracy: 0.6139 - val_class_label_accuracy: 0.7111\n",
      "Epoch 63/100\n",
      "146/146 [==============================] - 14s 97ms/step - loss: 0.3501 - bounding_box_loss: 0.0050 - class_label_loss: 0.3450 - bounding_box_accuracy: 0.7951 - class_label_accuracy: 0.8704 - val_loss: 1.2707 - val_bounding_box_loss: 0.0131 - val_class_label_loss: 1.2576 - val_bounding_box_accuracy: 0.6199 - val_class_label_accuracy: 0.7085\n",
      "Epoch 64/100\n",
      "146/146 [==============================] - 14s 98ms/step - loss: 0.3522 - bounding_box_loss: 0.0053 - class_label_loss: 0.3469 - bounding_box_accuracy: 0.7753 - class_label_accuracy: 0.8682 - val_loss: 1.2457 - val_bounding_box_loss: 0.0132 - val_class_label_loss: 1.2325 - val_bounding_box_accuracy: 0.6303 - val_class_label_accuracy: 0.7154\n",
      "Epoch 65/100\n",
      "146/146 [==============================] - 14s 98ms/step - loss: 0.3511 - bounding_box_loss: 0.0052 - class_label_loss: 0.3459 - bounding_box_accuracy: 0.7818 - class_label_accuracy: 0.8680 - val_loss: 1.2828 - val_bounding_box_loss: 0.0142 - val_class_label_loss: 1.2685 - val_bounding_box_accuracy: 0.6105 - val_class_label_accuracy: 0.7171\n",
      "Epoch 66/100\n",
      "146/146 [==============================] - 14s 98ms/step - loss: 0.3440 - bounding_box_loss: 0.0051 - class_label_loss: 0.3389 - bounding_box_accuracy: 0.7886 - class_label_accuracy: 0.8673 - val_loss: 1.2926 - val_bounding_box_loss: 0.0140 - val_class_label_loss: 1.2785 - val_bounding_box_accuracy: 0.5589 - val_class_label_accuracy: 0.7197\n",
      "Epoch 67/100\n",
      "146/146 [==============================] - 14s 98ms/step - loss: 0.3558 - bounding_box_loss: 0.0051 - class_label_loss: 0.3507 - bounding_box_accuracy: 0.7859 - class_label_accuracy: 0.8667 - val_loss: 1.2077 - val_bounding_box_loss: 0.0133 - val_class_label_loss: 1.1944 - val_bounding_box_accuracy: 0.6019 - val_class_label_accuracy: 0.7163\n",
      "Epoch 68/100\n",
      "146/146 [==============================] - 14s 97ms/step - loss: 0.3257 - bounding_box_loss: 0.0052 - class_label_loss: 0.3206 - bounding_box_accuracy: 0.7869 - class_label_accuracy: 0.8749 - val_loss: 1.2643 - val_bounding_box_loss: 0.0137 - val_class_label_loss: 1.2506 - val_bounding_box_accuracy: 0.6148 - val_class_label_accuracy: 0.7145\n",
      "Epoch 69/100\n",
      "146/146 [==============================] - 14s 98ms/step - loss: 0.3247 - bounding_box_loss: 0.0050 - class_label_loss: 0.3196 - bounding_box_accuracy: 0.7891 - class_label_accuracy: 0.8729 - val_loss: 1.2945 - val_bounding_box_loss: 0.0134 - val_class_label_loss: 1.2810 - val_bounding_box_accuracy: 0.6165 - val_class_label_accuracy: 0.7051\n",
      "Epoch 70/100\n",
      "146/146 [==============================] - 14s 97ms/step - loss: 0.3311 - bounding_box_loss: 0.0050 - class_label_loss: 0.3261 - bounding_box_accuracy: 0.8003 - class_label_accuracy: 0.8764 - val_loss: 1.3026 - val_bounding_box_loss: 0.0137 - val_class_label_loss: 1.2889 - val_bounding_box_accuracy: 0.5985 - val_class_label_accuracy: 0.7154\n",
      "Epoch 71/100\n",
      "146/146 [==============================] - 14s 98ms/step - loss: 0.3230 - bounding_box_loss: 0.0050 - class_label_loss: 0.3180 - bounding_box_accuracy: 0.7955 - class_label_accuracy: 0.8768 - val_loss: 1.2330 - val_bounding_box_loss: 0.0139 - val_class_label_loss: 1.2191 - val_bounding_box_accuracy: 0.6139 - val_class_label_accuracy: 0.7206\n",
      "Epoch 72/100\n",
      "146/146 [==============================] - 14s 97ms/step - loss: 0.3193 - bounding_box_loss: 0.0051 - class_label_loss: 0.3143 - bounding_box_accuracy: 0.7882 - class_label_accuracy: 0.8785 - val_loss: 1.3264 - val_bounding_box_loss: 0.0131 - val_class_label_loss: 1.3132 - val_bounding_box_accuracy: 0.6053 - val_class_label_accuracy: 0.7128\n",
      "Epoch 73/100\n",
      "146/146 [==============================] - 14s 98ms/step - loss: 0.3229 - bounding_box_loss: 0.0051 - class_label_loss: 0.3178 - bounding_box_accuracy: 0.7884 - class_label_accuracy: 0.8738 - val_loss: 1.3885 - val_bounding_box_loss: 0.0136 - val_class_label_loss: 1.3749 - val_bounding_box_accuracy: 0.6105 - val_class_label_accuracy: 0.7120\n",
      "Epoch 74/100\n",
      "146/146 [==============================] - 14s 98ms/step - loss: 0.3341 - bounding_box_loss: 0.0050 - class_label_loss: 0.3290 - bounding_box_accuracy: 0.7942 - class_label_accuracy: 0.8714 - val_loss: 1.2615 - val_bounding_box_loss: 0.0133 - val_class_label_loss: 1.2482 - val_bounding_box_accuracy: 0.6122 - val_class_label_accuracy: 0.7223\n",
      "Epoch 75/100\n",
      "146/146 [==============================] - 14s 97ms/step - loss: 0.3200 - bounding_box_loss: 0.0050 - class_label_loss: 0.3150 - bounding_box_accuracy: 0.7940 - class_label_accuracy: 0.8740 - val_loss: 1.3245 - val_bounding_box_loss: 0.0136 - val_class_label_loss: 1.3109 - val_bounding_box_accuracy: 0.6217 - val_class_label_accuracy: 0.7137\n",
      "Epoch 76/100\n",
      "146/146 [==============================] - 14s 98ms/step - loss: 0.3216 - bounding_box_loss: 0.0050 - class_label_loss: 0.3166 - bounding_box_accuracy: 0.7889 - class_label_accuracy: 0.8783 - val_loss: 1.3488 - val_bounding_box_loss: 0.0134 - val_class_label_loss: 1.3353 - val_bounding_box_accuracy: 0.6156 - val_class_label_accuracy: 0.7094\n",
      "Epoch 77/100\n",
      "146/146 [==============================] - 14s 98ms/step - loss: 0.3262 - bounding_box_loss: 0.0050 - class_label_loss: 0.3212 - bounding_box_accuracy: 0.8018 - class_label_accuracy: 0.8710 - val_loss: 1.3661 - val_bounding_box_loss: 0.0139 - val_class_label_loss: 1.3522 - val_bounding_box_accuracy: 0.5666 - val_class_label_accuracy: 0.7206\n",
      "Epoch 78/100\n",
      "146/146 [==============================] - 14s 98ms/step - loss: 0.3185 - bounding_box_loss: 0.0050 - class_label_loss: 0.3135 - bounding_box_accuracy: 0.7929 - class_label_accuracy: 0.8794 - val_loss: 1.3174 - val_bounding_box_loss: 0.0137 - val_class_label_loss: 1.3037 - val_bounding_box_accuracy: 0.6208 - val_class_label_accuracy: 0.7154\n",
      "Epoch 79/100\n",
      "146/146 [==============================] - 14s 98ms/step - loss: 0.3224 - bounding_box_loss: 0.0050 - class_label_loss: 0.3175 - bounding_box_accuracy: 0.8033 - class_label_accuracy: 0.8813 - val_loss: 1.3756 - val_bounding_box_loss: 0.0134 - val_class_label_loss: 1.3622 - val_bounding_box_accuracy: 0.6036 - val_class_label_accuracy: 0.7111\n",
      "Epoch 80/100\n",
      "146/146 [==============================] - 14s 98ms/step - loss: 0.3147 - bounding_box_loss: 0.0051 - class_label_loss: 0.3096 - bounding_box_accuracy: 0.7917 - class_label_accuracy: 0.8759 - val_loss: 1.4137 - val_bounding_box_loss: 0.0136 - val_class_label_loss: 1.4002 - val_bounding_box_accuracy: 0.5864 - val_class_label_accuracy: 0.7206\n",
      "Epoch 81/100\n",
      "146/146 [==============================] - 14s 97ms/step - loss: 0.3154 - bounding_box_loss: 0.0049 - class_label_loss: 0.3105 - bounding_box_accuracy: 0.7949 - class_label_accuracy: 0.8768 - val_loss: 1.2862 - val_bounding_box_loss: 0.0136 - val_class_label_loss: 1.2725 - val_bounding_box_accuracy: 0.6079 - val_class_label_accuracy: 0.7197\n",
      "Epoch 82/100\n",
      "146/146 [==============================] - 14s 98ms/step - loss: 0.3048 - bounding_box_loss: 0.0049 - class_label_loss: 0.2999 - bounding_box_accuracy: 0.7949 - class_label_accuracy: 0.8768 - val_loss: 1.5056 - val_bounding_box_loss: 0.0134 - val_class_label_loss: 1.4922 - val_bounding_box_accuracy: 0.6088 - val_class_label_accuracy: 0.7154\n",
      "Epoch 83/100\n",
      "146/146 [==============================] - 14s 97ms/step - loss: 0.3132 - bounding_box_loss: 0.0049 - class_label_loss: 0.3082 - bounding_box_accuracy: 0.7919 - class_label_accuracy: 0.8766 - val_loss: 1.4069 - val_bounding_box_loss: 0.0132 - val_class_label_loss: 1.3937 - val_bounding_box_accuracy: 0.6208 - val_class_label_accuracy: 0.7145\n",
      "Epoch 84/100\n",
      "146/146 [==============================] - 14s 99ms/step - loss: 0.3183 - bounding_box_loss: 0.0050 - class_label_loss: 0.3133 - bounding_box_accuracy: 0.7940 - class_label_accuracy: 0.8753 - val_loss: 1.4188 - val_bounding_box_loss: 0.0133 - val_class_label_loss: 1.4055 - val_bounding_box_accuracy: 0.6088 - val_class_label_accuracy: 0.7051\n",
      "Epoch 85/100\n",
      "146/146 [==============================] - 14s 97ms/step - loss: 0.3150 - bounding_box_loss: 0.0050 - class_label_loss: 0.3099 - bounding_box_accuracy: 0.7936 - class_label_accuracy: 0.8757 - val_loss: 1.3759 - val_bounding_box_loss: 0.0134 - val_class_label_loss: 1.3625 - val_bounding_box_accuracy: 0.5709 - val_class_label_accuracy: 0.7154\n",
      "Epoch 86/100\n",
      "146/146 [==============================] - 14s 98ms/step - loss: 0.2973 - bounding_box_loss: 0.0051 - class_label_loss: 0.2923 - bounding_box_accuracy: 0.7902 - class_label_accuracy: 0.8839 - val_loss: 1.3418 - val_bounding_box_loss: 0.0133 - val_class_label_loss: 1.3285 - val_bounding_box_accuracy: 0.6217 - val_class_label_accuracy: 0.7128\n",
      "Epoch 87/100\n",
      "146/146 [==============================] - 14s 98ms/step - loss: 0.3064 - bounding_box_loss: 0.0051 - class_label_loss: 0.3013 - bounding_box_accuracy: 0.7902 - class_label_accuracy: 0.8766 - val_loss: 1.3791 - val_bounding_box_loss: 0.0139 - val_class_label_loss: 1.3652 - val_bounding_box_accuracy: 0.6053 - val_class_label_accuracy: 0.7171\n",
      "Epoch 88/100\n",
      "146/146 [==============================] - 14s 98ms/step - loss: 0.2925 - bounding_box_loss: 0.0049 - class_label_loss: 0.2876 - bounding_box_accuracy: 0.7936 - class_label_accuracy: 0.8779 - val_loss: 1.3458 - val_bounding_box_loss: 0.0134 - val_class_label_loss: 1.3324 - val_bounding_box_accuracy: 0.6036 - val_class_label_accuracy: 0.7223\n",
      "Epoch 89/100\n",
      "146/146 [==============================] - 14s 98ms/step - loss: 0.3028 - bounding_box_loss: 0.0050 - class_label_loss: 0.2978 - bounding_box_accuracy: 0.7923 - class_label_accuracy: 0.8766 - val_loss: 1.3596 - val_bounding_box_loss: 0.0134 - val_class_label_loss: 1.3462 - val_bounding_box_accuracy: 0.6217 - val_class_label_accuracy: 0.7128\n",
      "Epoch 90/100\n",
      "146/146 [==============================] - 14s 98ms/step - loss: 0.3071 - bounding_box_loss: 0.0049 - class_label_loss: 0.3022 - bounding_box_accuracy: 0.7960 - class_label_accuracy: 0.8828 - val_loss: 1.4199 - val_bounding_box_loss: 0.0135 - val_class_label_loss: 1.4064 - val_bounding_box_accuracy: 0.6062 - val_class_label_accuracy: 0.7154\n",
      "Epoch 91/100\n",
      "146/146 [==============================] - 14s 98ms/step - loss: 0.3059 - bounding_box_loss: 0.0049 - class_label_loss: 0.3010 - bounding_box_accuracy: 0.7955 - class_label_accuracy: 0.8781 - val_loss: 1.3837 - val_bounding_box_loss: 0.0134 - val_class_label_loss: 1.3703 - val_bounding_box_accuracy: 0.6079 - val_class_label_accuracy: 0.7154\n",
      "Epoch 92/100\n",
      "146/146 [==============================] - 14s 98ms/step - loss: 0.3002 - bounding_box_loss: 0.0049 - class_label_loss: 0.2953 - bounding_box_accuracy: 0.7998 - class_label_accuracy: 0.8802 - val_loss: 1.3404 - val_bounding_box_loss: 0.0135 - val_class_label_loss: 1.3269 - val_bounding_box_accuracy: 0.6105 - val_class_label_accuracy: 0.7042\n",
      "Epoch 93/100\n",
      "146/146 [==============================] - 14s 98ms/step - loss: 0.2886 - bounding_box_loss: 0.0050 - class_label_loss: 0.2836 - bounding_box_accuracy: 0.7859 - class_label_accuracy: 0.8824 - val_loss: 1.4626 - val_bounding_box_loss: 0.0133 - val_class_label_loss: 1.4492 - val_bounding_box_accuracy: 0.6113 - val_class_label_accuracy: 0.7154\n",
      "Epoch 94/100\n",
      "146/146 [==============================] - 14s 97ms/step - loss: 0.3086 - bounding_box_loss: 0.0049 - class_label_loss: 0.3037 - bounding_box_accuracy: 0.7914 - class_label_accuracy: 0.8794 - val_loss: 1.2564 - val_bounding_box_loss: 0.0138 - val_class_label_loss: 1.2426 - val_bounding_box_accuracy: 0.6199 - val_class_label_accuracy: 0.7137\n",
      "Epoch 95/100\n",
      "146/146 [==============================] - 14s 98ms/step - loss: 0.2943 - bounding_box_loss: 0.0049 - class_label_loss: 0.2894 - bounding_box_accuracy: 0.8003 - class_label_accuracy: 0.8848 - val_loss: 1.3610 - val_bounding_box_loss: 0.0134 - val_class_label_loss: 1.3476 - val_bounding_box_accuracy: 0.6165 - val_class_label_accuracy: 0.7077\n",
      "Epoch 96/100\n",
      "146/146 [==============================] - 14s 97ms/step - loss: 0.2918 - bounding_box_loss: 0.0049 - class_label_loss: 0.2869 - bounding_box_accuracy: 0.7902 - class_label_accuracy: 0.8845 - val_loss: 1.3830 - val_bounding_box_loss: 0.0134 - val_class_label_loss: 1.3696 - val_bounding_box_accuracy: 0.6199 - val_class_label_accuracy: 0.7120\n",
      "Epoch 97/100\n",
      "146/146 [==============================] - 14s 98ms/step - loss: 0.2966 - bounding_box_loss: 0.0050 - class_label_loss: 0.2916 - bounding_box_accuracy: 0.7910 - class_label_accuracy: 0.8822 - val_loss: 1.4310 - val_bounding_box_loss: 0.0131 - val_class_label_loss: 1.4179 - val_bounding_box_accuracy: 0.6139 - val_class_label_accuracy: 0.7223\n",
      "Epoch 98/100\n",
      "146/146 [==============================] - 14s 98ms/step - loss: 0.2792 - bounding_box_loss: 0.0049 - class_label_loss: 0.2743 - bounding_box_accuracy: 0.7949 - class_label_accuracy: 0.8908 - val_loss: 1.4675 - val_bounding_box_loss: 0.0135 - val_class_label_loss: 1.4540 - val_bounding_box_accuracy: 0.6294 - val_class_label_accuracy: 0.7248\n",
      "Epoch 99/100\n",
      "146/146 [==============================] - 14s 98ms/step - loss: 0.2962 - bounding_box_loss: 0.0049 - class_label_loss: 0.2913 - bounding_box_accuracy: 0.7904 - class_label_accuracy: 0.8854 - val_loss: 1.3652 - val_bounding_box_loss: 0.0141 - val_class_label_loss: 1.3511 - val_bounding_box_accuracy: 0.5985 - val_class_label_accuracy: 0.7051\n",
      "Epoch 100/100\n",
      "146/146 [==============================] - 14s 98ms/step - loss: 0.2842 - bounding_box_loss: 0.0049 - class_label_loss: 0.2792 - bounding_box_accuracy: 0.7981 - class_label_accuracy: 0.8865 - val_loss: 1.5810 - val_bounding_box_loss: 0.0132 - val_class_label_loss: 1.5678 - val_bounding_box_accuracy: 0.6285 - val_class_label_accuracy: 0.7025\n"
     ]
    }
   ],
   "source": [
    "H = model.fit(\n",
    "\ttrainImages, trainTargets,\n",
    "\tvalidation_data=(testImages, testTargets),\n",
    "\tbatch_size=32,\n",
    "\tepochs=100,\n",
    "\tverbose=1)"
   ]
  },
  {
   "cell_type": "code",
   "execution_count": 20,
   "id": "b2ac1610",
   "metadata": {
    "execution": {
     "iopub.execute_input": "2023-01-14T10:41:54.179385Z",
     "iopub.status.busy": "2023-01-14T10:41:54.177718Z",
     "iopub.status.idle": "2023-01-14T10:41:59.114648Z",
     "shell.execute_reply": "2023-01-14T10:41:59.113695Z"
    },
    "papermill": {
     "duration": 5.811175,
     "end_time": "2023-01-14T10:41:59.117918",
     "exception": false,
     "start_time": "2023-01-14T10:41:53.306743",
     "status": "completed"
    },
    "tags": []
   },
   "outputs": [],
   "source": [
    "model.save('/kaggle/working/detector.h5', save_format=\"h5\")\n",
    "f = open('/kaggle/working/lb.pickle', \"wb\")\n",
    "f.write(pickle.dumps(lb))\n",
    "f.close()"
   ]
  }
 ],
 "metadata": {
  "kernelspec": {
   "display_name": "Python 3",
   "language": "python",
   "name": "python3"
  },
  "language_info": {
   "codemirror_mode": {
    "name": "ipython",
    "version": 3
   },
   "file_extension": ".py",
   "mimetype": "text/x-python",
   "name": "python",
   "nbconvert_exporter": "python",
   "pygments_lexer": "ipython3",
   "version": "3.7.12"
  },
  "papermill": {
   "default_parameters": {},
   "duration": 1856.514608,
   "end_time": "2023-01-14T10:42:03.308879",
   "environment_variables": {},
   "exception": null,
   "input_path": "__notebook__.ipynb",
   "output_path": "__notebook__.ipynb",
   "parameters": {},
   "start_time": "2023-01-14T10:11:06.794271",
   "version": "2.3.4"
  }
 },
 "nbformat": 4,
 "nbformat_minor": 5
}
