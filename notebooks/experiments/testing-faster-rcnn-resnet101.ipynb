{
 "cells": [
  {
   "cell_type": "code",
   "execution_count": null,
   "metadata": {
    "execution": {
     "iopub.execute_input": "2023-01-19T08:16:24.421907Z",
     "iopub.status.busy": "2023-01-19T08:16:24.420806Z",
     "iopub.status.idle": "2023-01-19T08:16:24.429555Z",
     "shell.execute_reply": "2023-01-19T08:16:24.428378Z",
     "shell.execute_reply.started": "2023-01-19T08:16:24.421866Z"
    }
   },
   "outputs": [],
   "source": [
    "import pandas as pd\n",
    "import numpy as np\n",
    "import cv2\n",
    "import os\n",
    "import re\n",
    "\n",
    "from PIL import Image\n",
    "\n",
    "import albumentations as A\n",
    "from albumentations.pytorch.transforms import ToTensorV2\n",
    "\n",
    "import torch\n",
    "\n",
    "import torchvision\n",
    "from torchvision.models.detection.faster_rcnn import FastRCNNPredictor, FasterRCNN\n",
    "from torchvision.models.detection.backbone_utils import resnet_fpn_backbone\n",
    "\n",
    "from torch.utils.data import DataLoader, Dataset\n",
    "from torch.utils.data.sampler import SequentialSampler\n",
    "\n",
    "from matplotlib import pyplot as plt"
   ]
  },
  {
   "cell_type": "code",
   "execution_count": null,
   "metadata": {
    "execution": {
     "iopub.execute_input": "2023-01-19T08:16:24.434603Z",
     "iopub.status.busy": "2023-01-19T08:16:24.433794Z",
     "iopub.status.idle": "2023-01-19T08:16:24.441496Z",
     "shell.execute_reply": "2023-01-19T08:16:24.440481Z",
     "shell.execute_reply.started": "2023-01-19T08:16:24.434573Z"
    }
   },
   "outputs": [],
   "source": [
    "device = torch.device('cuda') if torch.cuda.is_available() else torch.device('cpu')\n",
    "ON_CPU = device == torch.device('cpu')"
   ]
  },
  {
   "cell_type": "code",
   "execution_count": null,
   "metadata": {
    "execution": {
     "iopub.execute_input": "2023-01-19T08:16:24.460568Z",
     "iopub.status.busy": "2023-01-19T08:16:24.460291Z",
     "iopub.status.idle": "2023-01-19T08:16:24.498845Z",
     "shell.execute_reply": "2023-01-19T08:16:24.497870Z",
     "shell.execute_reply.started": "2023-01-19T08:16:24.460543Z"
    }
   },
   "outputs": [],
   "source": [
    "DIR_INPUT = '/kaggle/input/smartathon-dataset-zip/dataset'\n",
    "train = pd.read_csv(f'{DIR_INPUT}/train.csv')\n",
    "test = pd.read_csv(f'{DIR_INPUT}/test.csv')\n",
    "test.shape"
   ]
  },
  {
   "cell_type": "code",
   "execution_count": null,
   "metadata": {
    "execution": {
     "iopub.execute_input": "2023-01-19T08:16:24.500829Z",
     "iopub.status.busy": "2023-01-19T08:16:24.500545Z",
     "iopub.status.idle": "2023-01-19T08:16:24.510641Z",
     "shell.execute_reply": "2023-01-19T08:16:24.509417Z",
     "shell.execute_reply.started": "2023-01-19T08:16:24.500803Z"
    }
   },
   "outputs": [],
   "source": [
    "test['xmin'] = 0\n",
    "test['ymin'] = 0\n",
    "test['xmax'] = 1\n",
    "test['ymax'] = 1\n",
    "test['class'] = 0\n",
    "test['name'] = 'NA'"
   ]
  },
  {
   "cell_type": "code",
   "execution_count": null,
   "metadata": {
    "execution": {
     "iopub.execute_input": "2023-01-19T08:16:24.512893Z",
     "iopub.status.busy": "2023-01-19T08:16:24.512540Z",
     "iopub.status.idle": "2023-01-19T08:16:24.521650Z",
     "shell.execute_reply": "2023-01-19T08:16:24.520712Z",
     "shell.execute_reply.started": "2023-01-19T08:16:24.512859Z"
    }
   },
   "outputs": [],
   "source": [
    "image_ids = test['image_path'].unique()\n",
    "\n",
    "test_ids = image_ids[:]\n",
    "\n",
    "test_df = test[test['image_path'].isin(test_ids)].copy()"
   ]
  },
  {
   "cell_type": "code",
   "execution_count": null,
   "metadata": {
    "execution": {
     "iopub.execute_input": "2023-01-19T08:16:24.524786Z",
     "iopub.status.busy": "2023-01-19T08:16:24.524049Z",
     "iopub.status.idle": "2023-01-19T08:16:24.542176Z",
     "shell.execute_reply": "2023-01-19T08:16:24.541319Z",
     "shell.execute_reply.started": "2023-01-19T08:16:24.524747Z"
    }
   },
   "outputs": [],
   "source": [
    "class CreateDataset(Dataset):\n",
    "\n",
    "    def __init__(self, dataframe, image_dir, transforms=None):\n",
    "        super().__init__()\n",
    "\n",
    "        self.image_ids = dataframe['image_path'].unique()\n",
    "        self.df = dataframe\n",
    "        self.image_dir = image_dir\n",
    "        self.transforms = transforms\n",
    "\n",
    "    def __getitem__(self, index: int):\n",
    "\n",
    "        image_id = self.image_ids[index]\n",
    "        records = self.df[self.df['image_path'] == image_id]\n",
    "\n",
    "        image = cv2.imread(f'{self.image_dir}/{image_id}', cv2.IMREAD_COLOR)\n",
    "        image = cv2.cvtColor(image, cv2.COLOR_BGR2RGB).astype(np.float32)\n",
    "        image /= 255.0\n",
    "\n",
    "        boxes = records[['xmin', 'ymin', 'xmax', 'ymax']].values\n",
    "        \n",
    "        area = (boxes[:, 3] - boxes[:, 1]) * (boxes[:, 2] - boxes[:, 0])\n",
    "        area = torch.as_tensor(area, dtype=torch.float32)\n",
    "        area = torch.as_tensor(area, dtype=torch.float32)\n",
    "\n",
    "        labels = records['class']\n",
    "        labels = labels.to_numpy(dtype= np.int64)\n",
    "        labels = torch.from_numpy(labels)\n",
    "        \n",
    "        # suppose all instances are not crowd\n",
    "        iscrowd = torch.zeros((records.shape[0],), dtype=torch.int64)\n",
    "        \n",
    "        target = {}\n",
    "        target['boxes'] = torch.from_numpy(boxes)\n",
    "        target['labels'] = labels\n",
    "        target['image_id'] = torch.tensor([index])\n",
    "        target['area'] = area\n",
    "        target['iscrowd'] = iscrowd\n",
    "\n",
    "        if self.transforms:\n",
    "            sample = {\n",
    "                'image': image,\n",
    "                'bboxes': target['boxes'],\n",
    "                'labels': labels\n",
    "            }\n",
    "            sample = self.transforms(**sample)\n",
    "            image = sample['image']\n",
    "            \n",
    "            target['boxes'] = torch.stack(tuple(map(torch.tensor, zip(*sample['bboxes'])))).permute(1, 0)\n",
    "\n",
    "        return image, target, image_id\n",
    "\n",
    "    def __len__(self) -> int:\n",
    "        return self.image_ids.shape[0]"
   ]
  },
  {
   "cell_type": "code",
   "execution_count": null,
   "metadata": {
    "execution": {
     "iopub.execute_input": "2023-01-19T08:16:24.544228Z",
     "iopub.status.busy": "2023-01-19T08:16:24.543700Z",
     "iopub.status.idle": "2023-01-19T08:16:24.554470Z",
     "shell.execute_reply": "2023-01-19T08:16:24.553361Z",
     "shell.execute_reply.started": "2023-01-19T08:16:24.544193Z"
    }
   },
   "outputs": [],
   "source": [
    "# Albumentations\n",
    "def get_test_transform():\n",
    "    return A.Compose([\n",
    "        A.Resize(960, 540),\n",
    "        ToTensorV2(p=1.0)\n",
    "    ], bbox_params={'format': 'pascal_voc', 'label_fields': ['labels']})\n",
    "\n",
    "def get_valid_transform():\n",
    "    return A.Compose([\n",
    "        A.Resize(960, 540),\n",
    "        ToTensorV2(p=1.0)\n",
    "    ], bbox_params={'format': 'pascal_voc', 'label_fields': ['labels']})"
   ]
  },
  {
   "cell_type": "code",
   "execution_count": null,
   "metadata": {
    "execution": {
     "iopub.execute_input": "2023-01-19T08:16:24.557154Z",
     "iopub.status.busy": "2023-01-19T08:16:24.556760Z",
     "iopub.status.idle": "2023-01-19T08:16:24.566864Z",
     "shell.execute_reply": "2023-01-19T08:16:24.565809Z",
     "shell.execute_reply.started": "2023-01-19T08:16:24.557119Z"
    }
   },
   "outputs": [],
   "source": [
    "def get_model():\n",
    "    \"\"\"\n",
    "    https://stackoverflow.com/questions/58362892/resnet-18-as-backbone-in-faster-r-cnn\n",
    "    \"\"\"\n",
    "    backbone = resnet_fpn_backbone('resnet101', pretrained=True)\n",
    "    model = FasterRCNN(backbone, num_classes=11)\n",
    "    return model"
   ]
  },
  {
   "cell_type": "code",
   "execution_count": null,
   "metadata": {
    "execution": {
     "iopub.execute_input": "2023-01-19T08:16:24.571154Z",
     "iopub.status.busy": "2023-01-19T08:16:24.570858Z",
     "iopub.status.idle": "2023-01-19T08:16:24.577466Z",
     "shell.execute_reply": "2023-01-19T08:16:24.576367Z",
     "shell.execute_reply.started": "2023-01-19T08:16:24.571130Z"
    }
   },
   "outputs": [],
   "source": [
    "import os\n",
    "models_list = os.listdir('/kaggle/input/fork-of-faster-rcnn-smartathon')\n",
    "models_list.remove('__results__.html')\n",
    "models_list.remove('__notebook__.ipynb')\n",
    "models_list.remove('__output__.json')\n",
    "models_list.remove('custom.css')"
   ]
  },
  {
   "cell_type": "code",
   "execution_count": null,
   "metadata": {
    "execution": {
     "iopub.execute_input": "2023-01-19T08:16:24.579291Z",
     "iopub.status.busy": "2023-01-19T08:16:24.578804Z",
     "iopub.status.idle": "2023-01-19T08:16:38.795649Z",
     "shell.execute_reply": "2023-01-19T08:16:38.794682Z",
     "shell.execute_reply.started": "2023-01-19T08:16:24.579251Z"
    }
   },
   "outputs": [],
   "source": [
    "loaded_models = []\n",
    "\n",
    "for model_path in models_list:\n",
    "    model = get_model()\n",
    "    path = '/kaggle/input/fork-of-faster-rcnn-smartathon' + '/' + model_path\n",
    "    model.load_state_dict(torch.load(path,\n",
    "                                     map_location=torch.device('cpu')\n",
    "                                    )\n",
    "                         )\n",
    "    loaded_models.append(model)"
   ]
  },
  {
   "cell_type": "code",
   "execution_count": null,
   "metadata": {
    "execution": {
     "iopub.execute_input": "2023-01-19T08:16:38.797794Z",
     "iopub.status.busy": "2023-01-19T08:16:38.797453Z",
     "iopub.status.idle": "2023-01-19T08:16:38.814461Z",
     "shell.execute_reply": "2023-01-19T08:16:38.813319Z",
     "shell.execute_reply.started": "2023-01-19T08:16:38.797760Z"
    }
   },
   "outputs": [],
   "source": [
    "CLASSES = train['class'].unique()\n",
    "CLASSES = list(CLASSES)\n",
    "#CLASSES.append('__background__')\n",
    "#CLASSES\n",
    "num_classes = len(CLASSES)"
   ]
  },
  {
   "cell_type": "code",
   "execution_count": null,
   "metadata": {
    "execution": {
     "iopub.execute_input": "2023-01-19T08:16:38.818578Z",
     "iopub.status.busy": "2023-01-19T08:16:38.817814Z",
     "iopub.status.idle": "2023-01-19T08:16:38.825235Z",
     "shell.execute_reply": "2023-01-19T08:16:38.824356Z",
     "shell.execute_reply.started": "2023-01-19T08:16:38.818542Z"
    }
   },
   "outputs": [],
   "source": [
    "class Averager:\n",
    "    def __init__(self):\n",
    "        self.current_total = 0.0\n",
    "        self.iterations = 0.0\n",
    "\n",
    "    def send(self, value):\n",
    "        self.current_total += value\n",
    "        self.iterations += 1\n",
    "\n",
    "    @property\n",
    "    def value(self):\n",
    "        if self.iterations == 0:\n",
    "            return 0\n",
    "        else:\n",
    "            return 1.0 * self.current_total / self.iterations\n",
    "\n",
    "    def reset(self):\n",
    "        self.current_total = 0.0\n",
    "        self.iterations = 0.0"
   ]
  },
  {
   "cell_type": "code",
   "execution_count": null,
   "metadata": {
    "execution": {
     "iopub.execute_input": "2023-01-19T08:16:38.827025Z",
     "iopub.status.busy": "2023-01-19T08:16:38.826486Z",
     "iopub.status.idle": "2023-01-19T08:16:38.837054Z",
     "shell.execute_reply": "2023-01-19T08:16:38.836156Z",
     "shell.execute_reply.started": "2023-01-19T08:16:38.826981Z"
    }
   },
   "outputs": [],
   "source": [
    "def collate_fn(batch):\n",
    "    return tuple(zip(*batch))\n",
    "\n",
    "DIR_TRAIN = '/kaggle/input/smartathon-dataset-zip/dataset/images'\n",
    "test_dataset = CreateDataset(test_df, DIR_TRAIN,get_test_transform())\n",
    "\n",
    "indices = torch.randperm(len(test_dataset)).tolist()\n",
    "\n",
    "test_data_loader = DataLoader(\n",
    "    test_dataset,\n",
    "    batch_size=1,\n",
    "    shuffle=False,\n",
    "    num_workers=1,\n",
    "    collate_fn=collate_fn\n",
    ")"
   ]
  },
  {
   "cell_type": "code",
   "execution_count": null,
   "metadata": {
    "execution": {
     "iopub.execute_input": "2023-01-19T08:16:38.838902Z",
     "iopub.status.busy": "2023-01-19T08:16:38.838534Z",
     "iopub.status.idle": "2023-01-19T08:16:38.848063Z",
     "shell.execute_reply": "2023-01-19T08:16:38.846979Z",
     "shell.execute_reply.started": "2023-01-19T08:16:38.838867Z"
    }
   },
   "outputs": [],
   "source": [
    "# model = get_model()\n",
    "# model.to(device)\n",
    "# params = [p for p in model.parameters() if p.requires_grad]\n",
    "# optimizer = torch.optim.SGD(params, lr=0.005, momentum=0.9, weight_decay=0.0005)\n",
    "# # lr_scheduler = torch.optim.lr_scheduler.StepLR(optimizer, step_size=3, gamma=0.1)\n",
    "# lr_scheduler = None\n",
    "\n",
    "# num_epochs = 23"
   ]
  },
  {
   "cell_type": "code",
   "execution_count": null,
   "metadata": {
    "execution": {
     "iopub.execute_input": "2023-01-19T08:16:38.849847Z",
     "iopub.status.busy": "2023-01-19T08:16:38.849410Z",
     "iopub.status.idle": "2023-01-19T08:16:38.860280Z",
     "shell.execute_reply": "2023-01-19T08:16:38.859415Z",
     "shell.execute_reply.started": "2023-01-19T08:16:38.849786Z"
    }
   },
   "outputs": [],
   "source": [
    "preds = []\n",
    "\n",
    "\n",
    "classes = train['class'].unique()\n",
    "names = train['name'].unique()\n",
    "classmap = {class_val : name for (class_val, name) in zip(classes,names)}"
   ]
  },
  {
   "cell_type": "code",
   "execution_count": null,
   "metadata": {
    "execution": {
     "iopub.execute_input": "2023-01-19T09:04:20.666520Z",
     "iopub.status.busy": "2023-01-19T09:04:20.665893Z",
     "iopub.status.idle": "2023-01-19T09:49:42.932162Z",
     "shell.execute_reply": "2023-01-19T09:49:42.930957Z",
     "shell.execute_reply.started": "2023-01-19T09:04:20.666483Z"
    }
   },
   "outputs": [],
   "source": [
    "for model in loaded_models:\n",
    "    model.eval()\n",
    "    model.to(device)\n",
    "    output_dict = {}\n",
    "    output_dict['class']= []\n",
    "    output_dict['image_path'] = []\n",
    "    output_dict['name'] = []\n",
    "    output_dict['xmin'] = []\n",
    "    output_dict['xmax'] = []\n",
    "    output_dict['ymin'] = []\n",
    "    output_dict['ymax'] = []\n",
    "\n",
    "    idx = 0\n",
    "\n",
    "    for images, targets, image_ids in test_data_loader:\n",
    "        images = list(image.to(device) for image in images)\n",
    "        targets = [{k: v.to(device) for k, v in t.items()} for t in targets]\n",
    "\n",
    "        outputs = model(images)\n",
    "        boxes = outputs[0]['boxes'].cpu().detach().numpy()\n",
    "        labels =  outputs[0]['labels'].cpu().detach().numpy()\n",
    "\n",
    "        for pred in range(boxes.shape[0]):\n",
    "            (xmin, xmax, ymin, ymax) = boxes[pred]\n",
    "            label = labels[pred]\n",
    "            output_dict['class'].append(label)\n",
    "            output_dict['image_path'].append(test['image_path'][idx])\n",
    "            output_dict['name'].append('NA')\n",
    "            output_dict['xmin'].append(xmin)\n",
    "            output_dict['xmax'].append(xmax)\n",
    "            output_dict['ymin'].append(ymin)\n",
    "            output_dict['ymax'].append(ymax)\n",
    "\n",
    "        if idx%500 == 499:\n",
    "            print(idx+1, 'completed')\n",
    "        idx += 1\n",
    "        \n",
    "    data = pd.DataFrame(output_dict)\n",
    "    data['name'] = data['class'].map(classmap)\n",
    "    print(len(test['image_path'].unique()) - len(data['image_path'].unique()))\n",
    "    print(set(test['image_path'].unique()) - set(data['image_path'].unique()))\n",
    "    preds.append(data) "
   ]
  },
  {
   "cell_type": "code",
   "execution_count": null,
   "metadata": {
    "execution": {
     "iopub.execute_input": "2023-01-19T09:49:46.625771Z",
     "iopub.status.busy": "2023-01-19T09:49:46.624529Z",
     "iopub.status.idle": "2023-01-19T09:49:50.272653Z",
     "shell.execute_reply": "2023-01-19T09:49:50.271567Z",
     "shell.execute_reply.started": "2023-01-19T09:49:46.625733Z"
    }
   },
   "outputs": [],
   "source": [
    "for i in range(len(preds)):\n",
    "    preds[i].to_csv(f'/kaggle/working/frcnn101_epoch{2*i}.csv')"
   ]
  },
  {
   "cell_type": "code",
   "execution_count": null,
   "metadata": {
    "execution": {
     "iopub.execute_input": "2023-01-19T10:02:11.244363Z",
     "iopub.status.busy": "2023-01-19T10:02:11.243999Z",
     "iopub.status.idle": "2023-01-19T10:02:19.044876Z",
     "shell.execute_reply": "2023-01-19T10:02:19.043762Z",
     "shell.execute_reply.started": "2023-01-19T10:02:11.244333Z"
    }
   },
   "outputs": [],
   "source": [
    "for i in range(len(preds[11:])):\n",
    "    append_list = set(test['image_path'].unique()) - set(preds[11+i]['image_path'].unique())\n",
    "    print(len(preds[11+i]))\n",
    "    for path in append_list:\n",
    "        row = {'image_path':path}\n",
    "        preds[11+i] = preds[11+i].append(row, ignore_index = True)\n",
    "    print(len(preds[11+i]))\n",
    "    print()\n",
    "    preds[11+i].to_csv(f'/kaggle/working/frcnn101_epoch{2*i}.csv')"
   ]
  }
 ],
 "metadata": {
  "kernelspec": {
   "display_name": "Python 3 (ipykernel)",
   "language": "python",
   "name": "python3"
  },
  "language_info": {
   "codemirror_mode": {
    "name": "ipython",
    "version": 3
   },
   "file_extension": ".py",
   "mimetype": "text/x-python",
   "name": "python",
   "nbconvert_exporter": "python",
   "pygments_lexer": "ipython3",
   "version": "3.8.8"
  }
 },
 "nbformat": 4,
 "nbformat_minor": 4
}
