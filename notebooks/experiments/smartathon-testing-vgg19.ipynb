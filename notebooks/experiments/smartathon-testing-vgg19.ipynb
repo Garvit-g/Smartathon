{
 "cells": [
  {
   "cell_type": "code",
   "execution_count": 1,
   "id": "fd39fa21",
   "metadata": {
    "_cell_guid": "b1076dfc-b9ad-4769-8c92-a6c4dae69d19",
    "_uuid": "8f2839f25d086af736a60e9eeb907d3b93b6e0e5",
    "execution": {
     "iopub.execute_input": "2023-01-17T09:08:35.349559Z",
     "iopub.status.busy": "2023-01-17T09:08:35.348600Z",
     "iopub.status.idle": "2023-01-17T09:08:57.196186Z",
     "shell.execute_reply": "2023-01-17T09:08:57.194861Z"
    },
    "papermill": {
     "duration": 21.856182,
     "end_time": "2023-01-17T09:08:57.199274",
     "exception": false,
     "start_time": "2023-01-17T09:08:35.343092",
     "status": "completed"
    },
    "tags": []
   },
   "outputs": [
    {
     "name": "stdout",
     "output_type": "stream",
     "text": [
      "Collecting imutils\r\n",
      "  Downloading imutils-0.5.4.tar.gz (17 kB)\r\n",
      "  Preparing metadata (setup.py) ... \u001b[?25l-\b \bdone\r\n",
      "\u001b[?25hBuilding wheels for collected packages: imutils\r\n",
      "  Building wheel for imutils (setup.py) ... \u001b[?25l-\b \b\\\b \bdone\r\n",
      "\u001b[?25h  Created wheel for imutils: filename=imutils-0.5.4-py3-none-any.whl size=25858 sha256=4163c21731a209e16d44818d6bc1ecd4d68340a4847c1615ce4c1667829efc90\r\n",
      "  Stored in directory: /root/.cache/pip/wheels/86/d7/0a/4923351ed1cec5d5e24c1eaf8905567b02a0343b24aa873df2\r\n",
      "Successfully built imutils\r\n",
      "Installing collected packages: imutils\r\n",
      "Successfully installed imutils-0.5.4\r\n",
      "\u001b[33mWARNING: Running pip as the 'root' user can result in broken permissions and conflicting behaviour with the system package manager. It is recommended to use a virtual environment instead: https://pip.pypa.io/warnings/venv\u001b[0m\u001b[33m\r\n",
      "\u001b[0m"
     ]
    }
   ],
   "source": [
    "import numpy as np\n",
    "import pandas as pd\n",
    "import pickle\n",
    "from tensorflow.keras.models import load_model\n",
    "from tensorflow.keras.preprocessing.image import img_to_array\n",
    "from tensorflow.keras.preprocessing.image import load_img\n",
    "from sklearn.preprocessing import LabelBinarizer\n",
    "import cv2\n",
    "!pip install imutils\n",
    "import imutils"
   ]
  },
  {
   "cell_type": "code",
   "execution_count": 2,
   "id": "141db9aa",
   "metadata": {
    "execution": {
     "iopub.execute_input": "2023-01-17T09:08:57.209214Z",
     "iopub.status.busy": "2023-01-17T09:08:57.207597Z",
     "iopub.status.idle": "2023-01-17T09:09:00.407742Z",
     "shell.execute_reply": "2023-01-17T09:09:00.406608Z"
    },
    "papermill": {
     "duration": 3.207773,
     "end_time": "2023-01-17T09:09:00.410580",
     "exception": false,
     "start_time": "2023-01-17T09:08:57.202807",
     "status": "completed"
    },
    "tags": []
   },
   "outputs": [
    {
     "name": "stderr",
     "output_type": "stream",
     "text": [
      "2023-01-17 09:08:57.312669: I tensorflow/core/common_runtime/process_util.cc:146] Creating new thread pool with default inter op setting: 2. Tune using inter_op_parallelism_threads for best performance.\n"
     ]
    }
   ],
   "source": [
    "model = load_model('/kaggle/input/smartathon-training-vgg19/detector.h5')\n",
    "lb = pickle.loads(open('/kaggle/input/smartathon-training-vgg19/lb.pickle', \"rb\").read())"
   ]
  },
  {
   "cell_type": "code",
   "execution_count": 3,
   "id": "b60078d1",
   "metadata": {
    "execution": {
     "iopub.execute_input": "2023-01-17T09:09:00.419684Z",
     "iopub.status.busy": "2023-01-17T09:09:00.418662Z",
     "iopub.status.idle": "2023-01-17T09:09:00.462522Z",
     "shell.execute_reply": "2023-01-17T09:09:00.461525Z"
    },
    "papermill": {
     "duration": 0.05106,
     "end_time": "2023-01-17T09:09:00.465043",
     "exception": false,
     "start_time": "2023-01-17T09:09:00.413983",
     "status": "completed"
    },
    "tags": []
   },
   "outputs": [
    {
     "data": {
      "text/html": [
       "<div>\n",
       "<style scoped>\n",
       "    .dataframe tbody tr th:only-of-type {\n",
       "        vertical-align: middle;\n",
       "    }\n",
       "\n",
       "    .dataframe tbody tr th {\n",
       "        vertical-align: top;\n",
       "    }\n",
       "\n",
       "    .dataframe thead th {\n",
       "        text-align: right;\n",
       "    }\n",
       "</style>\n",
       "<table border=\"1\" class=\"dataframe\">\n",
       "  <thead>\n",
       "    <tr style=\"text-align: right;\">\n",
       "      <th></th>\n",
       "      <th>image_path</th>\n",
       "    </tr>\n",
       "  </thead>\n",
       "  <tbody>\n",
       "    <tr>\n",
       "      <th>0</th>\n",
       "      <td>/kaggle/input/smartathon-dataset-zip/dataset/i...</td>\n",
       "    </tr>\n",
       "    <tr>\n",
       "      <th>1</th>\n",
       "      <td>/kaggle/input/smartathon-dataset-zip/dataset/i...</td>\n",
       "    </tr>\n",
       "    <tr>\n",
       "      <th>2</th>\n",
       "      <td>/kaggle/input/smartathon-dataset-zip/dataset/i...</td>\n",
       "    </tr>\n",
       "    <tr>\n",
       "      <th>3</th>\n",
       "      <td>/kaggle/input/smartathon-dataset-zip/dataset/i...</td>\n",
       "    </tr>\n",
       "    <tr>\n",
       "      <th>4</th>\n",
       "      <td>/kaggle/input/smartathon-dataset-zip/dataset/i...</td>\n",
       "    </tr>\n",
       "  </tbody>\n",
       "</table>\n",
       "</div>"
      ],
      "text/plain": [
       "                                          image_path\n",
       "0  /kaggle/input/smartathon-dataset-zip/dataset/i...\n",
       "1  /kaggle/input/smartathon-dataset-zip/dataset/i...\n",
       "2  /kaggle/input/smartathon-dataset-zip/dataset/i...\n",
       "3  /kaggle/input/smartathon-dataset-zip/dataset/i...\n",
       "4  /kaggle/input/smartathon-dataset-zip/dataset/i..."
      ]
     },
     "execution_count": 3,
     "metadata": {},
     "output_type": "execute_result"
    }
   ],
   "source": [
    "test = pd.read_csv('/kaggle/input/smartathon-dataset-zip/dataset/test.csv')\n",
    "test['image_path'] = \"/kaggle/input/smartathon-dataset-zip/dataset/images/\" + test['image_path']\n",
    "test['image_path'] = test['image_path'].apply(lambda x: str(x))\n",
    "test.head()"
   ]
  },
  {
   "cell_type": "code",
   "execution_count": 4,
   "id": "90af24c4",
   "metadata": {
    "execution": {
     "iopub.execute_input": "2023-01-17T09:09:00.474200Z",
     "iopub.status.busy": "2023-01-17T09:09:00.473161Z",
     "iopub.status.idle": "2023-01-17T09:09:00.525586Z",
     "shell.execute_reply": "2023-01-17T09:09:00.524388Z"
    },
    "papermill": {
     "duration": 0.059762,
     "end_time": "2023-01-17T09:09:00.528390",
     "exception": false,
     "start_time": "2023-01-17T09:09:00.468628",
     "status": "completed"
    },
    "tags": []
   },
   "outputs": [],
   "source": [
    "train = pd.read_csv('/kaggle/input/smartathon-dataset-zip/dataset/train.csv')"
   ]
  },
  {
   "cell_type": "code",
   "execution_count": 5,
   "id": "7fbbe102",
   "metadata": {
    "execution": {
     "iopub.execute_input": "2023-01-17T09:09:00.536948Z",
     "iopub.status.busy": "2023-01-17T09:09:00.536541Z",
     "iopub.status.idle": "2023-01-17T09:09:00.552449Z",
     "shell.execute_reply": "2023-01-17T09:09:00.551318Z"
    },
    "papermill": {
     "duration": 0.023397,
     "end_time": "2023-01-17T09:09:00.555344",
     "exception": false,
     "start_time": "2023-01-17T09:09:00.531947",
     "status": "completed"
    },
    "tags": []
   },
   "outputs": [],
   "source": [
    "classes = list(train['class'].unique())\n",
    "cn = {}\n",
    "for cl in classes:\n",
    "    name = train.loc[train['class']==cl, 'name'].values[0]\n",
    "    cn[cl] = name"
   ]
  },
  {
   "cell_type": "code",
   "execution_count": 6,
   "id": "1c23f0fd",
   "metadata": {
    "execution": {
     "iopub.execute_input": "2023-01-17T09:09:00.563798Z",
     "iopub.status.busy": "2023-01-17T09:09:00.563439Z",
     "iopub.status.idle": "2023-01-17T09:26:47.487020Z",
     "shell.execute_reply": "2023-01-17T09:26:47.485698Z"
    },
    "papermill": {
     "duration": 1066.930908,
     "end_time": "2023-01-17T09:26:47.489773",
     "exception": false,
     "start_time": "2023-01-17T09:09:00.558865",
     "status": "completed"
    },
    "tags": []
   },
   "outputs": [
    {
     "name": "stderr",
     "output_type": "stream",
     "text": [
      "2023-01-17 09:09:00.703150: I tensorflow/compiler/mlir/mlir_graph_optimization_pass.cc:185] None of the MLIR Optimization Passes are enabled (registered 2)\n"
     ]
    }
   ],
   "source": [
    "summary = []\n",
    "for i in range(test.shape[0]):\n",
    "    path = test.iloc[i, 0]\n",
    "    image = load_img(test.iloc[i, 0], target_size=(224, 224))\n",
    "    image = img_to_array(image) / 255.0\n",
    "    image = np.expand_dims(image, axis=0)\n",
    "    \n",
    "    (boxPreds, labelPreds) = model.predict(image)\n",
    "    (startX, startY, endX, endY) = boxPreds[0]\n",
    "    \n",
    "    i = np.argmax(labelPreds, axis=1)\n",
    "    label = lb.classes_[i][0]\n",
    "    \n",
    "    image = cv2.imread(test.iloc[i, 0].values[0])\n",
    "    image = imutils.resize(image, width=9120)\n",
    "    (h, w) = image.shape[:2]\n",
    "    \n",
    "    startX = int(startX * w)\n",
    "    startY = int(startY * h)\n",
    "    endX = int(endX * w)\n",
    "    endY = int(endY * h)\n",
    "    \n",
    "    name = cn[float(label)]\n",
    "    \n",
    "    summary.append({\n",
    "        'class' : float(label),\n",
    "        'imagePath' : test.iloc[i, 0],\n",
    "        'name' : name,\n",
    "        'xmax' : endX,\n",
    "        'xmin' : startX,\n",
    "        'ymax' : endY,\n",
    "        'ymin' : startY\n",
    "    })"
   ]
  },
  {
   "cell_type": "code",
   "execution_count": 7,
   "id": "240dfd38",
   "metadata": {
    "execution": {
     "iopub.execute_input": "2023-01-17T09:26:47.499158Z",
     "iopub.status.busy": "2023-01-17T09:26:47.498411Z",
     "iopub.status.idle": "2023-01-17T09:26:48.202485Z",
     "shell.execute_reply": "2023-01-17T09:26:48.201364Z"
    },
    "papermill": {
     "duration": 0.711412,
     "end_time": "2023-01-17T09:26:48.205022",
     "exception": false,
     "start_time": "2023-01-17T09:26:47.493610",
     "status": "completed"
    },
    "tags": []
   },
   "outputs": [],
   "source": [
    "summary = pd.DataFrame(summary)\n",
    "summary.to_csv('vgg19.csv')"
   ]
  }
 ],
 "metadata": {
  "kernelspec": {
   "display_name": "Python 3",
   "language": "python",
   "name": "python3"
  },
  "language_info": {
   "codemirror_mode": {
    "name": "ipython",
    "version": 3
   },
   "file_extension": ".py",
   "mimetype": "text/x-python",
   "name": "python",
   "nbconvert_exporter": "python",
   "pygments_lexer": "ipython3",
   "version": "3.7.12"
  },
  "papermill": {
   "default_parameters": {},
   "duration": 1104.716018,
   "end_time": "2023-01-17T09:26:51.641360",
   "environment_variables": {},
   "exception": null,
   "input_path": "__notebook__.ipynb",
   "output_path": "__notebook__.ipynb",
   "parameters": {},
   "start_time": "2023-01-17T09:08:26.925342",
   "version": "2.3.4"
  }
 },
 "nbformat": 4,
 "nbformat_minor": 5
}
