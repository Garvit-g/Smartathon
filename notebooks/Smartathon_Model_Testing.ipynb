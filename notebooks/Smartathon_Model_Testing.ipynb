{
  "cells": [
    {
      "cell_type": "code",
      "execution_count": null,
      "metadata": {
        "id": "Ie5uLDH4uzAp"
      },
      "outputs": [],
      "source": [
        "# cloning the YOLOv5 repository\n",
        "!git clone https://github.com/ultralytics/yolov5\n",
        "%cd yolov5\n",
        "!git reset --hard fbe67e465375231474a2ad80a4389efc77ecff99"
      ]
    },
    {
      "cell_type": "code",
      "source": [
        "!git clone https://github.com/Garvit-g/Smartathon.git"
      ],
      "metadata": {
        "id": "GBaO4FfHorNL"
      },
      "execution_count": null,
      "outputs": []
    },
    {
      "cell_type": "code",
      "execution_count": null,
      "metadata": {
        "id": "wbvMlHd_QwMG"
      },
      "outputs": [],
      "source": [
        "# installing dependencies\n",
        "!pip install -qr requirements.txt\n",
        "import torch\n",
        "import shutil\n",
        "from IPython.display import Image, clear_output\n",
        "print('Setup complete. Using torch %s %s' % (torch.__version__, torch.cuda.get_device_properties(0) if torch.cuda.is_available() else 'CPU'))"
      ]
    },
    {
      "cell_type": "markdown",
      "source": [
        "# Testing examples\n",
        "\n",
        "Note: Scroll to the bottom if the images are not visible"
      ],
      "metadata": {
        "id": "tonrTvd60PK7"
      }
    },
    {
      "cell_type": "code",
      "execution_count": null,
      "metadata": {
        "id": "9nmZZnWOgJ2S"
      },
      "outputs": [],
      "source": [
        "%cd /content/yolov5/\n",
        "\n",
        "#Uncomment the lines of code to test with different images\n",
        "!python detect.py --weights /content/yolov5/Smartathon/weights/YOLOv5wts.pt --img 416 --conf 0.25 --source /content/yolov5/Smartathon/imgs/examples/ex1.jpg\n",
        "display(Image(filename='/content/yolov5/runs/detect/exp/ex1.jpg'))\n",
        "shutil.rmtree('/content/yolov5/runs/detect/exp')\n",
        "\n",
        "\n",
        "\n",
        "#For example 2, uncomment the next three lines\n",
        "# !python detect.py --weights /content/yolov5/Smartathon/weights/YOLOv5wts.pt --img 416 --conf 0.25 --source /content/yolov5/Smartathon/imgs/examples/ex2.jpg\n",
        "# display(Image(filename='/content/yolov5/runs/detect/exp/ex2.jpg'))\n",
        "# shutil.rmtree('/content/yolov5/runs/detect/exp')\n",
        "\n",
        "\n",
        "\n",
        "#For example 3, uncomment the next three lines\n",
        "# !python detect.py --weights /content/yolov5/Smartathon/weights/YOLOv5wts.pt --img 416 --conf 0.25 --source /content/yolov5/Smartathon/imgs/examples/ex3.jpg\n",
        "# display(Image(filename='/content/yolov5/runs/detect/exp/ex3.jpg'))\n",
        "# shutil.rmtree('/content/yolov5/runs/detect/exp')\n",
        "\n",
        "\n",
        "\n",
        "#For example 4, uncomment the next three lines\n",
        "# !python detect.py --weights /content/yolov5/Smartathon/weights/YOLOv5wts.pt --img 416 --conf 0.25 --source /content/yolov5/Smartathon/imgs/examples/ex4.jpg\n",
        "# display(Image(filename='/content/yolov5/runs/detect/exp/ex4.jpg'))\n",
        "# shutil.rmtree('/content/yolov5/runs/detect/exp')\n",
        "\n",
        "\n",
        "\n",
        "#For example 5, uncomment the next three lines\n",
        "# !python detect.py --weights /content/yolov5/Smartathon/weights/YOLOv5wts.pt --img 416 --conf 0.25 --source /content/yolov5/Smartathon/imgs/examples/ex5.jpg\n",
        "# display(Image(filename='/content/yolov5/runs/detect/exp/ex5.jpg'))\n",
        "# shutil.rmtree('/content/yolov5/runs/detect/exp')\n",
        "\n",
        "\n",
        "\n",
        "#For example 6, uncomment the next three lines\n",
        "# !python detect.py --weights /content/yolov5/Smartathon/weights/YOLOv5wts.pt --img 416 --conf 0.25 --source /content/yolov5/Smartathon/imgs/examples/ex6.jpg\n",
        "# display(Image(filename='/content/yolov5/runs/detect/exp/ex6.jpg'))\n",
        "# shutil.rmtree('/content/yolov5/runs/detect/exp')\n",
        "\n",
        "\n",
        "\n",
        "#For example 7, uncomment the next three lines\n",
        "!python detect.py --weights /content/yolov5/Smartathon/weights/YOLOv5wts.pt --img 416 --conf 0.25 --source /content/yolov5/Smartathon/imgs/examples/ex7.jpg\n",
        "display(Image(filename='/content/yolov5/runs/detect/exp/ex7.jpg'))\n",
        "shutil.rmtree('/content/yolov5/runs/detect/exp')\n"
      ]
    }
  ],
  "metadata": {
    "accelerator": "GPU",
    "colab": {
      "provenance": []
    },
    "kernelspec": {
      "display_name": "Python 3",
      "name": "python3"
    }
  },
  "nbformat": 4,
  "nbformat_minor": 0
}